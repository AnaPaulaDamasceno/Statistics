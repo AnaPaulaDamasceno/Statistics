{
 "cells": [
  {
   "cell_type": "markdown",
   "id": "fba49bb0",
   "metadata": {},
   "source": [
    "# 1 - Introduction \n",
    "\n",
    "In this Data Analytics work, we will explore the power of hypothesis testing, a fundamental technique of inferential statistics that allows us to make inferences about a population based on a sample of data. Hypothesis tests provide a structured framework for assessing the validity of claims about population parameters such as means, proportions, and variances. Throughout the analysis, we will delve into different types of hypothesis tests, such as the Z-test, t-test, ANOVA, and chi-square test, and discuss their applications in various scenarios. Over the course of this work, we will emphasize the importance of understanding hypothesis tests and their role in data analysis for the advancement of knowledge.\n",
    "\n",
    "We will apply the hypothesis tests in 4 databases, for each database we will contextualize and include the conclusion of the test performed\n",
    "\n",
    "\n",
    "\n",
    "\n",
    "\n",
    "\n"
   ]
  },
  {
   "cell_type": "markdown",
   "id": "27c9a8a9",
   "metadata": {},
   "source": [
    "# 2 - Task 1 - Exam score\n",
    "\n",
    "We will explore the data and perform hypothesis testing using the dataset \"Q1,\" which contains the scores (in percentages) of a sample of 50 students from a secondary school in Dublin. The purpose of the hypothesis test is to assess whether the performance of students in this school is below the national average, which is 70%"
   ]
  },
  {
   "cell_type": "markdown",
   "id": "9fcd6e0f",
   "metadata": {},
   "source": [
    "# Import Libraries \n",
    "\n",
    "\n",
    "Importing the libraries that will be used during the project development"
   ]
  },
  {
   "cell_type": "code",
   "execution_count": 1,
   "id": "4d9a884a",
   "metadata": {},
   "outputs": [],
   "source": [
    "import pandas as pd\n",
    "import seaborn as sns\n",
    "import numpy as np\n",
    "import matplotlib.image as plt\n",
    "import matplotlib.pyplot as plt\n",
    "%matplotlib inline\n",
    "import plotly.graph_objects as go\n",
    "from sklearn.decomposition import PCA\n",
    "from sklearn.preprocessing import StandardScaler\n",
    "import plotly.express as px\n",
    "import statistics"
   ]
  },
  {
   "cell_type": "markdown",
   "id": "aeaa8c09",
   "metadata": {},
   "source": [
    "# 2.1 - Loading the file"
   ]
  },
  {
   "cell_type": "code",
   "execution_count": 5,
   "id": "02bb2cd0",
   "metadata": {},
   "outputs": [
    {
     "ename": "FileNotFoundError",
     "evalue": "[Errno 2] No such file or directory: 'Q1.csv'",
     "output_type": "error",
     "traceback": [
      "\u001b[1;31m---------------------------------------------------------------------------\u001b[0m",
      "\u001b[1;31mFileNotFoundError\u001b[0m                         Traceback (most recent call last)",
      "Cell \u001b[1;32mIn[5], line 1\u001b[0m\n\u001b[1;32m----> 1\u001b[0m df\u001b[38;5;241m=\u001b[39mpd\u001b[38;5;241m.\u001b[39mread_csv(\u001b[38;5;124m\"\u001b[39m\u001b[38;5;124mQ1.csv\u001b[39m\u001b[38;5;124m\"\u001b[39m)\n",
      "File \u001b[1;32m~\\anaconda3\\Lib\\site-packages\\pandas\\io\\parsers\\readers.py:912\u001b[0m, in \u001b[0;36mread_csv\u001b[1;34m(filepath_or_buffer, sep, delimiter, header, names, index_col, usecols, dtype, engine, converters, true_values, false_values, skipinitialspace, skiprows, skipfooter, nrows, na_values, keep_default_na, na_filter, verbose, skip_blank_lines, parse_dates, infer_datetime_format, keep_date_col, date_parser, date_format, dayfirst, cache_dates, iterator, chunksize, compression, thousands, decimal, lineterminator, quotechar, quoting, doublequote, escapechar, comment, encoding, encoding_errors, dialect, on_bad_lines, delim_whitespace, low_memory, memory_map, float_precision, storage_options, dtype_backend)\u001b[0m\n\u001b[0;32m    899\u001b[0m kwds_defaults \u001b[38;5;241m=\u001b[39m _refine_defaults_read(\n\u001b[0;32m    900\u001b[0m     dialect,\n\u001b[0;32m    901\u001b[0m     delimiter,\n\u001b[1;32m   (...)\u001b[0m\n\u001b[0;32m    908\u001b[0m     dtype_backend\u001b[38;5;241m=\u001b[39mdtype_backend,\n\u001b[0;32m    909\u001b[0m )\n\u001b[0;32m    910\u001b[0m kwds\u001b[38;5;241m.\u001b[39mupdate(kwds_defaults)\n\u001b[1;32m--> 912\u001b[0m \u001b[38;5;28;01mreturn\u001b[39;00m _read(filepath_or_buffer, kwds)\n",
      "File \u001b[1;32m~\\anaconda3\\Lib\\site-packages\\pandas\\io\\parsers\\readers.py:577\u001b[0m, in \u001b[0;36m_read\u001b[1;34m(filepath_or_buffer, kwds)\u001b[0m\n\u001b[0;32m    574\u001b[0m _validate_names(kwds\u001b[38;5;241m.\u001b[39mget(\u001b[38;5;124m\"\u001b[39m\u001b[38;5;124mnames\u001b[39m\u001b[38;5;124m\"\u001b[39m, \u001b[38;5;28;01mNone\u001b[39;00m))\n\u001b[0;32m    576\u001b[0m \u001b[38;5;66;03m# Create the parser.\u001b[39;00m\n\u001b[1;32m--> 577\u001b[0m parser \u001b[38;5;241m=\u001b[39m TextFileReader(filepath_or_buffer, \u001b[38;5;241m*\u001b[39m\u001b[38;5;241m*\u001b[39mkwds)\n\u001b[0;32m    579\u001b[0m \u001b[38;5;28;01mif\u001b[39;00m chunksize \u001b[38;5;129;01mor\u001b[39;00m iterator:\n\u001b[0;32m    580\u001b[0m     \u001b[38;5;28;01mreturn\u001b[39;00m parser\n",
      "File \u001b[1;32m~\\anaconda3\\Lib\\site-packages\\pandas\\io\\parsers\\readers.py:1407\u001b[0m, in \u001b[0;36mTextFileReader.__init__\u001b[1;34m(self, f, engine, **kwds)\u001b[0m\n\u001b[0;32m   1404\u001b[0m     \u001b[38;5;28mself\u001b[39m\u001b[38;5;241m.\u001b[39moptions[\u001b[38;5;124m\"\u001b[39m\u001b[38;5;124mhas_index_names\u001b[39m\u001b[38;5;124m\"\u001b[39m] \u001b[38;5;241m=\u001b[39m kwds[\u001b[38;5;124m\"\u001b[39m\u001b[38;5;124mhas_index_names\u001b[39m\u001b[38;5;124m\"\u001b[39m]\n\u001b[0;32m   1406\u001b[0m \u001b[38;5;28mself\u001b[39m\u001b[38;5;241m.\u001b[39mhandles: IOHandles \u001b[38;5;241m|\u001b[39m \u001b[38;5;28;01mNone\u001b[39;00m \u001b[38;5;241m=\u001b[39m \u001b[38;5;28;01mNone\u001b[39;00m\n\u001b[1;32m-> 1407\u001b[0m \u001b[38;5;28mself\u001b[39m\u001b[38;5;241m.\u001b[39m_engine \u001b[38;5;241m=\u001b[39m \u001b[38;5;28mself\u001b[39m\u001b[38;5;241m.\u001b[39m_make_engine(f, \u001b[38;5;28mself\u001b[39m\u001b[38;5;241m.\u001b[39mengine)\n",
      "File \u001b[1;32m~\\anaconda3\\Lib\\site-packages\\pandas\\io\\parsers\\readers.py:1661\u001b[0m, in \u001b[0;36mTextFileReader._make_engine\u001b[1;34m(self, f, engine)\u001b[0m\n\u001b[0;32m   1659\u001b[0m     \u001b[38;5;28;01mif\u001b[39;00m \u001b[38;5;124m\"\u001b[39m\u001b[38;5;124mb\u001b[39m\u001b[38;5;124m\"\u001b[39m \u001b[38;5;129;01mnot\u001b[39;00m \u001b[38;5;129;01min\u001b[39;00m mode:\n\u001b[0;32m   1660\u001b[0m         mode \u001b[38;5;241m+\u001b[39m\u001b[38;5;241m=\u001b[39m \u001b[38;5;124m\"\u001b[39m\u001b[38;5;124mb\u001b[39m\u001b[38;5;124m\"\u001b[39m\n\u001b[1;32m-> 1661\u001b[0m \u001b[38;5;28mself\u001b[39m\u001b[38;5;241m.\u001b[39mhandles \u001b[38;5;241m=\u001b[39m get_handle(\n\u001b[0;32m   1662\u001b[0m     f,\n\u001b[0;32m   1663\u001b[0m     mode,\n\u001b[0;32m   1664\u001b[0m     encoding\u001b[38;5;241m=\u001b[39m\u001b[38;5;28mself\u001b[39m\u001b[38;5;241m.\u001b[39moptions\u001b[38;5;241m.\u001b[39mget(\u001b[38;5;124m\"\u001b[39m\u001b[38;5;124mencoding\u001b[39m\u001b[38;5;124m\"\u001b[39m, \u001b[38;5;28;01mNone\u001b[39;00m),\n\u001b[0;32m   1665\u001b[0m     compression\u001b[38;5;241m=\u001b[39m\u001b[38;5;28mself\u001b[39m\u001b[38;5;241m.\u001b[39moptions\u001b[38;5;241m.\u001b[39mget(\u001b[38;5;124m\"\u001b[39m\u001b[38;5;124mcompression\u001b[39m\u001b[38;5;124m\"\u001b[39m, \u001b[38;5;28;01mNone\u001b[39;00m),\n\u001b[0;32m   1666\u001b[0m     memory_map\u001b[38;5;241m=\u001b[39m\u001b[38;5;28mself\u001b[39m\u001b[38;5;241m.\u001b[39moptions\u001b[38;5;241m.\u001b[39mget(\u001b[38;5;124m\"\u001b[39m\u001b[38;5;124mmemory_map\u001b[39m\u001b[38;5;124m\"\u001b[39m, \u001b[38;5;28;01mFalse\u001b[39;00m),\n\u001b[0;32m   1667\u001b[0m     is_text\u001b[38;5;241m=\u001b[39mis_text,\n\u001b[0;32m   1668\u001b[0m     errors\u001b[38;5;241m=\u001b[39m\u001b[38;5;28mself\u001b[39m\u001b[38;5;241m.\u001b[39moptions\u001b[38;5;241m.\u001b[39mget(\u001b[38;5;124m\"\u001b[39m\u001b[38;5;124mencoding_errors\u001b[39m\u001b[38;5;124m\"\u001b[39m, \u001b[38;5;124m\"\u001b[39m\u001b[38;5;124mstrict\u001b[39m\u001b[38;5;124m\"\u001b[39m),\n\u001b[0;32m   1669\u001b[0m     storage_options\u001b[38;5;241m=\u001b[39m\u001b[38;5;28mself\u001b[39m\u001b[38;5;241m.\u001b[39moptions\u001b[38;5;241m.\u001b[39mget(\u001b[38;5;124m\"\u001b[39m\u001b[38;5;124mstorage_options\u001b[39m\u001b[38;5;124m\"\u001b[39m, \u001b[38;5;28;01mNone\u001b[39;00m),\n\u001b[0;32m   1670\u001b[0m )\n\u001b[0;32m   1671\u001b[0m \u001b[38;5;28;01massert\u001b[39;00m \u001b[38;5;28mself\u001b[39m\u001b[38;5;241m.\u001b[39mhandles \u001b[38;5;129;01mis\u001b[39;00m \u001b[38;5;129;01mnot\u001b[39;00m \u001b[38;5;28;01mNone\u001b[39;00m\n\u001b[0;32m   1672\u001b[0m f \u001b[38;5;241m=\u001b[39m \u001b[38;5;28mself\u001b[39m\u001b[38;5;241m.\u001b[39mhandles\u001b[38;5;241m.\u001b[39mhandle\n",
      "File \u001b[1;32m~\\anaconda3\\Lib\\site-packages\\pandas\\io\\common.py:859\u001b[0m, in \u001b[0;36mget_handle\u001b[1;34m(path_or_buf, mode, encoding, compression, memory_map, is_text, errors, storage_options)\u001b[0m\n\u001b[0;32m    854\u001b[0m \u001b[38;5;28;01melif\u001b[39;00m \u001b[38;5;28misinstance\u001b[39m(handle, \u001b[38;5;28mstr\u001b[39m):\n\u001b[0;32m    855\u001b[0m     \u001b[38;5;66;03m# Check whether the filename is to be opened in binary mode.\u001b[39;00m\n\u001b[0;32m    856\u001b[0m     \u001b[38;5;66;03m# Binary mode does not support 'encoding' and 'newline'.\u001b[39;00m\n\u001b[0;32m    857\u001b[0m     \u001b[38;5;28;01mif\u001b[39;00m ioargs\u001b[38;5;241m.\u001b[39mencoding \u001b[38;5;129;01mand\u001b[39;00m \u001b[38;5;124m\"\u001b[39m\u001b[38;5;124mb\u001b[39m\u001b[38;5;124m\"\u001b[39m \u001b[38;5;129;01mnot\u001b[39;00m \u001b[38;5;129;01min\u001b[39;00m ioargs\u001b[38;5;241m.\u001b[39mmode:\n\u001b[0;32m    858\u001b[0m         \u001b[38;5;66;03m# Encoding\u001b[39;00m\n\u001b[1;32m--> 859\u001b[0m         handle \u001b[38;5;241m=\u001b[39m \u001b[38;5;28mopen\u001b[39m(\n\u001b[0;32m    860\u001b[0m             handle,\n\u001b[0;32m    861\u001b[0m             ioargs\u001b[38;5;241m.\u001b[39mmode,\n\u001b[0;32m    862\u001b[0m             encoding\u001b[38;5;241m=\u001b[39mioargs\u001b[38;5;241m.\u001b[39mencoding,\n\u001b[0;32m    863\u001b[0m             errors\u001b[38;5;241m=\u001b[39merrors,\n\u001b[0;32m    864\u001b[0m             newline\u001b[38;5;241m=\u001b[39m\u001b[38;5;124m\"\u001b[39m\u001b[38;5;124m\"\u001b[39m,\n\u001b[0;32m    865\u001b[0m         )\n\u001b[0;32m    866\u001b[0m     \u001b[38;5;28;01melse\u001b[39;00m:\n\u001b[0;32m    867\u001b[0m         \u001b[38;5;66;03m# Binary mode\u001b[39;00m\n\u001b[0;32m    868\u001b[0m         handle \u001b[38;5;241m=\u001b[39m \u001b[38;5;28mopen\u001b[39m(handle, ioargs\u001b[38;5;241m.\u001b[39mmode)\n",
      "\u001b[1;31mFileNotFoundError\u001b[0m: [Errno 2] No such file or directory: 'Q1.csv'"
     ]
    }
   ],
   "source": [
    "df=pd.read_csv(\"Q1.csv\")"
   ]
  },
  {
   "cell_type": "markdown",
   "id": "e12c83a3",
   "metadata": {},
   "source": [
    "# 2.2 - Characterisation of the data set\n",
    "\n",
    "I will perform data characterization in Python to understand the essential characteristics of the data, such as examining the dimensions of the dataset, identifying types of variables present, exploring statistics, among others. The analyses conducted will be detailed below."
   ]
  },
  {
   "cell_type": "code",
   "execution_count": null,
   "id": "6d87605d",
   "metadata": {},
   "outputs": [],
   "source": [
    "df.head ()"
   ]
  },
  {
   "cell_type": "code",
   "execution_count": null,
   "id": "3c57a3a0",
   "metadata": {},
   "outputs": [],
   "source": [
    "df.shape"
   ]
  },
  {
   "cell_type": "markdown",
   "id": "63021e8f",
   "metadata": {},
   "source": [
    "This database contains only one column with 50 rows"
   ]
  },
  {
   "cell_type": "code",
   "execution_count": null,
   "id": "db580cb4",
   "metadata": {},
   "outputs": [],
   "source": [
    "df.describe ()"
   ]
  },
  {
   "cell_type": "markdown",
   "id": "2a417574",
   "metadata": {},
   "source": [
    "\n",
    "The students' grades have an average of 68.73 with a standard deviation of 9.75."
   ]
  },
  {
   "cell_type": "code",
   "execution_count": null,
   "id": "667f5f88",
   "metadata": {},
   "outputs": [],
   "source": [
    "df.mean()"
   ]
  },
  {
   "cell_type": "code",
   "execution_count": null,
   "id": "1af53dfd",
   "metadata": {},
   "outputs": [],
   "source": [
    "df.median()"
   ]
  },
  {
   "cell_type": "markdown",
   "id": "fa6ca745",
   "metadata": {},
   "source": [
    "# 2.3 - Data Exploration "
   ]
  },
  {
   "cell_type": "code",
   "execution_count": null,
   "id": "93a75241",
   "metadata": {},
   "outputs": [],
   "source": [
    "# Setting the style of the plot\n",
    "sns.set(style=\"whitegrid\")\n",
    "\n",
    "# Creating the density plot\n",
    "plt.figure(figsize=(10, 6))\n",
    "sns.kdeplot(data=df['exam_score'], shade=True)\n",
    "plt.title('Density Plot - Distribution of Exam Scores')\n",
    "plt.xlabel('Exam Score')\n",
    "plt.ylabel('Density')\n",
    "plt.show()"
   ]
  },
  {
   "cell_type": "markdown",
   "id": "1190ddba",
   "metadata": {},
   "source": [
    "Through the density plot, what we can observe is:\n",
    "\n",
    "Grade Concentration: We can see that the majority of grades are concentrated around a specific range, indicated by the highest region of the density curve.\n",
    "\n",
    "Symmetrical Distribution: The density curve appears to follow a symmetrical distribution, suggesting that most students achieved median grades.\n",
    "\n",
    "Extreme Grades: However, we also notice a longer tail towards higher grades, indicating that some students performed exceptionally well.\n",
    "\n",
    "Grade Variation: The density of grades gradually decreases as we move away from the central range, indicating a variation in the distribution of grades.\n",
    "\n",
    "Therefore, based on this data, we can conclude that most students achieved median grades, but there were also cases of exceptional performance both upwards and downwards."
   ]
  },
  {
   "cell_type": "code",
   "execution_count": 3,
   "id": "0cd0e562",
   "metadata": {},
   "outputs": [
    {
     "ename": "NameError",
     "evalue": "name 'df' is not defined",
     "output_type": "error",
     "traceback": [
      "\u001b[1;31m---------------------------------------------------------------------------\u001b[0m",
      "\u001b[1;31mNameError\u001b[0m                                 Traceback (most recent call last)",
      "Cell \u001b[1;32mIn[3], line 2\u001b[0m\n\u001b[0;32m      1\u001b[0m \u001b[38;5;66;03m# Sample mean\u001b[39;00m\n\u001b[1;32m----> 2\u001b[0m sample_mean \u001b[38;5;241m=\u001b[39m df[\u001b[38;5;124m'\u001b[39m\u001b[38;5;124mexam_score\u001b[39m\u001b[38;5;124m'\u001b[39m]\u001b[38;5;241m.\u001b[39mmean()\n\u001b[0;32m      4\u001b[0m \u001b[38;5;66;03m# Define the national mean\u001b[39;00m\n\u001b[0;32m      5\u001b[0m national_mean \u001b[38;5;241m=\u001b[39m \u001b[38;5;241m70\u001b[39m\n",
      "\u001b[1;31mNameError\u001b[0m: name 'df' is not defined"
     ]
    }
   ],
   "source": [
    "# Sample mean\n",
    "sample_mean = df['exam_score'].mean()\n",
    "\n",
    "# Define the national mean\n",
    "national_mean = 70\n",
    "\n",
    "# Create a list of labels for the students\n",
    "students = ['Std {}'.format(i+1) for i in range(len(df))]\n",
    "\n",
    "# Create a list of students' scores\n",
    "students_scores = df['exam_score']\n",
    "\n",
    "# Create a list with the national mean repeated for each student\n",
    "national_scores = [national_mean] * len(df)\n",
    "\n",
    "# Create the bar chart\n",
    "plt.bar(students, students_scores, color='blue', label='Students Scores')\n",
    "plt.plot(students, national_scores, color='red', linestyle='dashed', linewidth=2, label='National Mean')\n",
    "\n",
    "# Add a horizontal line for the national mean\n",
    "plt.axhline(y=national_mean, color='red', linestyle='dashed', linewidth=2)\n",
    "\n",
    "# Add legends and axis labels\n",
    "plt.xlabel('Students')\n",
    "plt.ylabel('Scores')\n",
    "plt.title('Students Scores vs National Mean')\n",
    "plt.legend()\n",
    "\n",
    "# Display the plot\n",
    "plt.xticks(rotation=80)\n",
    "plt.tight_layout()\n",
    "plt.show()\n"
   ]
  },
  {
   "cell_type": "markdown",
   "id": "347aaeb4",
   "metadata": {},
   "source": [
    "\n",
    "The bar chart displays the individual scores of students in an exam, represented by blue bars, along with the national average of 70.000, highlighted by a dashed red line. Some bars are above the line, indicating scores higher than the national average, while others are below, suggesting lower scores."
   ]
  },
  {
   "cell_type": "code",
   "execution_count": 4,
   "id": "1aa51284",
   "metadata": {},
   "outputs": [
    {
     "ename": "NameError",
     "evalue": "name 'df' is not defined",
     "output_type": "error",
     "traceback": [
      "\u001b[1;31m---------------------------------------------------------------------------\u001b[0m",
      "\u001b[1;31mNameError\u001b[0m                                 Traceback (most recent call last)",
      "Cell \u001b[1;32mIn[4], line 4\u001b[0m\n\u001b[0;32m      1\u001b[0m \u001b[38;5;28;01mimport\u001b[39;00m \u001b[38;5;21;01mmatplotlib\u001b[39;00m\u001b[38;5;21;01m.\u001b[39;00m\u001b[38;5;21;01mpyplot\u001b[39;00m \u001b[38;5;28;01mas\u001b[39;00m \u001b[38;5;21;01mplt\u001b[39;00m\n\u001b[0;32m      3\u001b[0m \u001b[38;5;66;03m# Student exam scores and reported national mean\u001b[39;00m\n\u001b[1;32m----> 4\u001b[0m student_scores_school \u001b[38;5;241m=\u001b[39m df[\u001b[38;5;124m'\u001b[39m\u001b[38;5;124mexam_score\u001b[39m\u001b[38;5;124m'\u001b[39m]\n\u001b[0;32m      5\u001b[0m reported_national_mean \u001b[38;5;241m=\u001b[39m \u001b[38;5;241m70\u001b[39m\n\u001b[0;32m      7\u001b[0m \u001b[38;5;66;03m# Create scatter plot\u001b[39;00m\n",
      "\u001b[1;31mNameError\u001b[0m: name 'df' is not defined"
     ]
    }
   ],
   "source": [
    "import matplotlib.pyplot as plt\n",
    "\n",
    "# Student exam scores and reported national mean\n",
    "student_scores_school = df['exam_score']\n",
    "reported_national_mean = 70\n",
    "\n",
    "# Create scatter plot\n",
    "plt.scatter(range(len(student_scores_school)), student_scores_school, label='Student Scores')\n",
    "plt.plot(range(len(student_scores_school)), [reported_national_mean]*len(student_scores_school), \n",
    "         color='red', linestyle='--', label='Reported National Mean')\n",
    "\n",
    "# Add title and axis labels\n",
    "plt.title('Relationship between Student Scores and Reported National Mean')\n",
    "plt.xlabel('Students')\n",
    "plt.ylabel('Scores')\n",
    "plt.legend()\n",
    "plt.show()\n"
   ]
  },
  {
   "cell_type": "markdown",
   "id": "672d36a3",
   "metadata": {},
   "source": [
    "This scatter plot illustrates the relationship between student scores and the reported national mean. Each point represents the score of a student, with the horizontal axis indicating the students and the vertical axis indicating their scores. The dashed red line denotes the reported national mean, which is 70 in this case.\n",
    "\n",
    "Observing the scatter plot, we notice that some student scores are above the reported national mean, while others are below. This suggests variations in individual performance compared to the reported average. Points above the dashed line represent students who scored higher than the reported national mean, while points below the line represent those with scores lower than the reported average."
   ]
  },
  {
   "cell_type": "markdown",
   "id": "52f83b70",
   "metadata": {},
   "source": [
    "# 2.4 Outliers"
   ]
  },
  {
   "cell_type": "code",
   "execution_count": 12,
   "id": "2db7d249",
   "metadata": {},
   "outputs": [
    {
     "data": {
      "text/plain": [
       "<Axes: xlabel='exam_score'>"
      ]
     },
     "execution_count": 12,
     "metadata": {},
     "output_type": "execute_result"
    },
    {
     "data": {
      "image/png": "[encoded data removed]",
      "text/plain": [
       "<Figure size 640x480 with 1 Axes>"
      ]
     },
     "metadata": {},
     "output_type": "display_data"
    }
   ],
   "source": [
    "sns.boxplot(x=df[\"exam_score\"])"
   ]
  },
  {
   "cell_type": "markdown",
   "id": "5a87e267",
   "metadata": {},
   "source": [
    "No outliers to assess for removal"
   ]
  },
  {
   "cell_type": "markdown",
   "id": "5c5a1ac8",
   "metadata": {},
   "source": [
    "# 2.5 - Hypothesis Testing"
   ]
  },
  {
   "cell_type": "markdown",
   "id": "b102bac8",
   "metadata": {},
   "source": [
    "Contextualizing the problem: We are working with a dataset containing a sample of student performance (50 students) from a school in Dublin. Considering this context, one of the teachers is concerned about the students' performance at the school. She suspects that their performance may be below the reported national average of 70%. The purpose of this hypothesis test will be to assess whether the teacher's concerns are justified. To conduct the test, we will use:\n",
    "\n",
    "Significance level alpha = 0.05\n",
    "\n",
    "Sample mean = mean of the school's students\n",
    "\n",
    "Population mean = national average student mean\n",
    "\n",
    "Para realizar o teste de hipotese para identificar se a media dos alunos da escola de Dublin esta abaixo da media nacional, iremos usar o one sample test. \n",
    "\n",
    "One Sample Test: The one-sample hypothesis test is a statistical technique used to determine whether the mean of a sample is statistically different from a known reference value. It involves formulating a null hypothesis (H0) and an alternative hypothesis (H1), where the null states that there is no difference, while the alternative suggests otherwise. An appropriate test statistic, such as the Student's t-test, is calculated along with a p-value, indicating the probability of obtaining the observed results if the null hypothesis is true. If the p-value is less than a predetermined significance level (0.05), the null hypothesis is rejected, concluding that there is a statistically significant difference. Otherwise, there is insufficient evidence to reject the null hypothesis.\n",
    "\n"
   ]
  },
  {
   "cell_type": "code",
   "execution_count": 13,
   "id": "f20b0e22",
   "metadata": {},
   "outputs": [
    {
     "data": {
      "text/plain": [
       "TtestResult(statistic=-0.9169771399834613, pvalue=0.36364597032062806, df=49)"
      ]
     },
     "execution_count": 13,
     "metadata": {},
     "output_type": "execute_result"
    }
   ],
   "source": [
    "from scipy import stats \n",
    "\n",
    "# The one sample t-test model is ttest_1samp which takes in the sample mean \n",
    "stats.ttest_1samp(df['exam_score'], popmean = 70)"
   ]
  },
  {
   "cell_type": "code",
   "execution_count": 14,
   "id": "8ca4a3dd",
   "metadata": {},
   "outputs": [
    {
     "name": "stdout",
     "output_type": "stream",
     "text": [
      "Result of t-test using scipy.stats: TtestResult(statistic=-0.9169771399834613, pvalue=0.36364597032062806, df=49)\n",
      "Test Statistic (Manual Calculation): -0.9169771399834615\n"
     ]
    }
   ],
   "source": [
    "import math\n",
    "from scipy import stats\n",
    "\n",
    "# Performing the t-test using scipy.stats:\n",
    "scipy_result = stats.ttest_1samp(df['exam_score'], popmean=70)  # popmean changed to 70\n",
    "print(\"Result of t-test using scipy.stats:\", scipy_result)\n",
    "\n",
    "# Manually calculating the test statistic:\n",
    "xbar = df['exam_score'].mean()  # Sample mean\n",
    "mu = 70  # Updated expected mean to 70\n",
    "s = statistics.stdev(df['exam_score'])  # Sample standard deviation\n",
    "n = len(df['exam_score'])  # Sample size\n",
    "\n",
    "test_statistic = (xbar - mu) / (s / math.sqrt(n))\n",
    "print(\"Test Statistic (Manual Calculation):\", test_statistic)\n"
   ]
  },
  {
   "cell_type": "code",
   "execution_count": 15,
   "id": "e0f8da5a",
   "metadata": {},
   "outputs": [],
   "source": [
    "sample_mean = df['exam_score'].mean()"
   ]
  },
  {
   "cell_type": "code",
   "execution_count": 16,
   "id": "1b595a9f",
   "metadata": {},
   "outputs": [
    {
     "data": {
      "image/png": "[encoded data removed]",
      "text/plain": [
       "<Figure size 800x600 with 1 Axes>"
      ]
     },
     "metadata": {},
     "output_type": "display_data"
    },
    {
     "ename": "NameError",
     "evalue": "name 'resultado_scipy' is not defined",
     "output_type": "error",
     "traceback": [
      "\u001b[1;31m---------------------------------------------------------------------------\u001b[0m",
      "\u001b[1;31mNameError\u001b[0m                                 Traceback (most recent call last)",
      "Cell \u001b[1;32mIn[16], line 21\u001b[0m\n\u001b[0;32m     18\u001b[0m plt\u001b[38;5;241m.\u001b[39mshow()\n\u001b[0;32m     20\u001b[0m \u001b[38;5;66;03m# Display the result of the t-test\u001b[39;00m\n\u001b[1;32m---> 21\u001b[0m \u001b[38;5;28mprint\u001b[39m(\u001b[38;5;124m\"\u001b[39m\u001b[38;5;124mResult of t-test using scipy.stats:\u001b[39m\u001b[38;5;124m\"\u001b[39m, resultado_scipy)\n",
      "\u001b[1;31mNameError\u001b[0m: name 'resultado_scipy' is not defined"
     ]
    }
   ],
   "source": [
    "\n",
    "\n",
    "# Mean of exam_scores\n",
    "media_exam_scores = df['exam_score'].mean()\n",
    "\n",
    "# Create the plot\n",
    "plt.figure(figsize=(8, 6))\n",
    "result = plt.hist(df['exam_score'], bins=7, color=\"c\", edgecolor=\"k\", alpha=0.65)\n",
    "\n",
    "# Add line for the mean of exam_scores\n",
    "plt.axvline(media_exam_scores, color=\"k\", linestyle=\"dashed\", linewidth=2, label=\"Mean of exam_scores\")\n",
    "\n",
    "# Add line for the reported national mean of 70%\n",
    "plt.axvline(70, color=\"red\", linestyle=\"solid\", linewidth=2, label=\"Reported national mean of 70%\")\n",
    "\n",
    "plt.title('Distribution of exam_scores')\n",
    "plt.xlabel('exam_score')\n",
    "plt.ylabel('Frequency')\n",
    "plt.legend()\n",
    "plt.show()\n",
    "\n",
    "# Display the result of the t-test\n",
    "print(\"Result of t-test using scipy.stats:\", resultado_scipy)"
   ]
  },
  {
   "cell_type": "code",
   "execution_count": null,
   "id": "d0f743af",
   "metadata": {},
   "outputs": [],
   "source": [
    "import numpy as np\n",
    "import scipy.stats as stats\n",
    "import matplotlib.pyplot as plt\n",
    "\n",
    "# Defining parameters\n",
    "alpha = 0.05\n",
    "alternative = 'two-sided'\n",
    "\n",
    "# Population parameters\n",
    "population_mean = 70  # Reported national mean\n",
    "\n",
    "# Sample statistics (assuming 'df' is the DataFrame with the data)\n",
    "sample = df['exam_score']\n",
    "n = len(sample)\n",
    "sample_mean = sample.mean()\n",
    "sample_std = sample.std()\n",
    "\n",
    "# Statistical test results\n",
    "test_statistic = -0.9169771399834613\n",
    "p_value = 0.36364597032062806\n",
    "\n",
    "# Function to conclude and visualize the results\n",
    "def conclusion_and_visualization(title, test_stat, p_val, alpha, alternative):\n",
    "    # Calculating the critical value\n",
    "    if alternative == 'two-sided':\n",
    "        critical_value = stats.norm.ppf(1 - alpha/2)\n",
    "    elif alternative == 'lower':\n",
    "        critical_value = stats.norm.ppf(alpha)\n",
    "    elif alternative == 'upper':\n",
    "        critical_value = stats.norm.ppf(1 - alpha)\n",
    "    \n",
    "    # Plotting the standard normal distribution\n",
    "    fig, ax = plt.subplots()\n",
    "    x = np.linspace(-4, 4, 1000)\n",
    "    ax.plot(x, stats.norm.pdf(x), label='Standard Normal Distribution', color='blue')\n",
    "    \n",
    "    # Highlighting the rejection area\n",
    "    ax.fill_between(x, 0, stats.norm.pdf(x), where=(x <= -critical_value), color='red', alpha=0.3)\n",
    "    ax.fill_between(x, 0, stats.norm.pdf(x), where=(x >= critical_value), color='red', alpha=0.3)\n",
    "    \n",
    "    # Plotting the point of the test statistic\n",
    "    ax.scatter(test_stat, 0, color='black', zorder=5)\n",
    "    ax.annotate(f'Test Statistic = {test_stat:.2f}', (test_stat, 0.01), xytext=(test_stat - 1, 0.2), \n",
    "                arrowprops=dict(facecolor='black', arrowstyle='->'))\n",
    "    \n",
    "    # Lines for the critical value\n",
    "    ax.axvline(-critical_value, linestyle='--', color='green', label=f'Critical Value ({alpha/2})')\n",
    "    ax.axvline(critical_value, linestyle='--', color='green')\n",
    "    \n",
    "    # Displaying the p-value on the plot\n",
    "    ax.text(-2, 0.3, f'p-value = {p_val:.5f}', fontsize=12, color='black')\n",
    "    \n",
    "    # Additional plot settings\n",
    "    ax.set_title(title)\n",
    "    ax.legend(loc='upper right')\n",
    "    \n",
    "    plt.show()\n",
    "\n",
    "# Calling the function to conclude and visualize the results\n",
    "conclusion_and_visualization(\n",
    "    title='One Sample T-test',\n",
    "    test_stat=test_statistic,\n",
    "    p_val=p_value,\n",
    "    alpha=alpha,\n",
    "    alternative=alternative\n",
    ")\n"
   ]
  },
  {
   "cell_type": "markdown",
   "id": "5f7466ae",
   "metadata": {},
   "source": [
    "# 2.6 Conclusion Hyphotesis test \n",
    "\n",
    "Based on the statistical analysis conducted, there is insufficient evidence to reject the null hypothesis that the students' performance in the school does not differ significantly from the reported national average of 70%. Using a significance level of 0.05, the obtained p-value was 0.364, indicating that there is no statistically significant difference between the students' performance and the national average.\n",
    "\n",
    "Furthermore, considering the school's average as 68, the result of the hypothesis test suggests that the students' performance is not statistically different from this local average. Therefore, with a confidence level of 95%, we can conclude that the students' performance appears to be in line with the local average.\n",
    "\n"
   ]
  },
  {
   "cell_type": "markdown",
   "id": "9b3ac188",
   "metadata": {},
   "source": [
    "# 3 - Task 2 - Diamonds\n",
    "\n",
    "\n",
    "In Task 2, we will analyze the relationship between the clarity of diamonds and whether they are considered colorless or not. Here's a breakdown of what needs to be done:\n",
    "\n",
    "a. Creating a binary variable: We will create a new binary variable in the dataset called \"colourless\" which will have a value of 1 for rows with colorless diamonds (those with color grades from \"D\" to \"F\") and 0 for rows with diamonds that are not colorless (grades from \"G\" to \"J\").\n",
    "\n",
    "b. Hypothesis test: We will perform a suitable hypothesis test to determine whether there is an association between the clarity of a diamond and whether it is considered colorless or not. We'll use a significance level (alpha) of 0.01.\n",
    "\n",
    "c. Plotting the findings: We'll produce a plot to visually illustrate the relationship between diamond clarity and colorlessness.\n",
    "\n",
    "d. Confidence intervals: We'll find and interpret 90% confidence intervals for both the mean price of colorless diamonds and the mean price of non-colorless diamonds. This will give us insight into the range of likely values for the average price of each category of diamonds.\n",
    "\n",
    "Overall, this analysis will help us understand if there is a significant relationship between diamond clarity and colorlessness, and how it may relate to diamond prices."
   ]
  },
  {
   "cell_type": "markdown",
   "id": "a7449143",
   "metadata": {},
   "source": [
    "# 3.1 - Loading the file"
   ]
  },
  {
   "cell_type": "code",
   "execution_count": 20,
   "id": "4fd2cf6b",
   "metadata": {},
   "outputs": [],
   "source": [
    "dfd=pd.read_csv(\"diamonds.csv\")"
   ]
  },
  {
   "cell_type": "markdown",
   "id": "c3f7f31b",
   "metadata": {},
   "source": [
    "# 3.2 - Characterisation of the data set"
   ]
  },
  {
   "cell_type": "code",
   "execution_count": 21,
   "id": "1cb57822",
   "metadata": {},
   "outputs": [
    {
     "data": {
      "text/html": [
       "<div>\n",
       "<style scoped>\n",
       "    .dataframe tbody tr th:only-of-type {\n",
       "        vertical-align: middle;\n",
       "    }\n",
       "\n",
       "    .dataframe tbody tr th {\n",
       "        vertical-align: top;\n",
       "    }\n",
       "\n",
       "    .dataframe thead th {\n",
       "        text-align: right;\n",
       "    }\n",
       "</style>\n",
       "<table border=\"1\" class=\"dataframe\">\n",
       "  <thead>\n",
       "    <tr style=\"text-align: right;\">\n",
       "      <th></th>\n",
       "      <th>carat</th>\n",
       "      <th>cut</th>\n",
       "      <th>color</th>\n",
       "      <th>clarity</th>\n",
       "      <th>depth</th>\n",
       "      <th>table</th>\n",
       "      <th>price</th>\n",
       "      <th>x</th>\n",
       "      <th>y</th>\n",
       "      <th>z</th>\n",
       "    </tr>\n",
       "  </thead>\n",
       "  <tbody>\n",
       "    <tr>\n",
       "      <th>0</th>\n",
       "      <td>0.23</td>\n",
       "      <td>Ideal</td>\n",
       "      <td>E</td>\n",
       "      <td>SI2</td>\n",
       "      <td>61.5</td>\n",
       "      <td>55.0</td>\n",
       "      <td>326</td>\n",
       "      <td>3.95</td>\n",
       "      <td>3.98</td>\n",
       "      <td>2.43</td>\n",
       "    </tr>\n",
       "    <tr>\n",
       "      <th>1</th>\n",
       "      <td>0.21</td>\n",
       "      <td>Premium</td>\n",
       "      <td>E</td>\n",
       "      <td>SI1</td>\n",
       "      <td>59.8</td>\n",
       "      <td>61.0</td>\n",
       "      <td>326</td>\n",
       "      <td>3.89</td>\n",
       "      <td>3.84</td>\n",
       "      <td>2.31</td>\n",
       "    </tr>\n",
       "    <tr>\n",
       "      <th>2</th>\n",
       "      <td>0.23</td>\n",
       "      <td>Good</td>\n",
       "      <td>E</td>\n",
       "      <td>VS1</td>\n",
       "      <td>56.9</td>\n",
       "      <td>65.0</td>\n",
       "      <td>327</td>\n",
       "      <td>4.05</td>\n",
       "      <td>4.07</td>\n",
       "      <td>2.31</td>\n",
       "    </tr>\n",
       "    <tr>\n",
       "      <th>3</th>\n",
       "      <td>0.29</td>\n",
       "      <td>Premium</td>\n",
       "      <td>I</td>\n",
       "      <td>VS2</td>\n",
       "      <td>62.4</td>\n",
       "      <td>58.0</td>\n",
       "      <td>334</td>\n",
       "      <td>4.20</td>\n",
       "      <td>4.23</td>\n",
       "      <td>2.63</td>\n",
       "    </tr>\n",
       "    <tr>\n",
       "      <th>4</th>\n",
       "      <td>0.31</td>\n",
       "      <td>Good</td>\n",
       "      <td>J</td>\n",
       "      <td>SI2</td>\n",
       "      <td>63.3</td>\n",
       "      <td>58.0</td>\n",
       "      <td>335</td>\n",
       "      <td>4.34</td>\n",
       "      <td>4.35</td>\n",
       "      <td>2.75</td>\n",
       "    </tr>\n",
       "  </tbody>\n",
       "</table>\n",
       "</div>"
      ],
      "text/plain": [
       "   carat      cut color clarity  depth  table  price     x     y     z\n",
       "0   0.23    Ideal     E     SI2   61.5   55.0    326  3.95  3.98  2.43\n",
       "1   0.21  Premium     E     SI1   59.8   61.0    326  3.89  3.84  2.31\n",
       "2   0.23     Good     E     VS1   56.9   65.0    327  4.05  4.07  2.31\n",
       "3   0.29  Premium     I     VS2   62.4   58.0    334  4.20  4.23  2.63\n",
       "4   0.31     Good     J     SI2   63.3   58.0    335  4.34  4.35  2.75"
      ]
     },
     "execution_count": 21,
     "metadata": {},
     "output_type": "execute_result"
    }
   ],
   "source": [
    "dfd.head ()"
   ]
  },
  {
   "cell_type": "code",
   "execution_count": 22,
   "id": "ca3ce40c",
   "metadata": {},
   "outputs": [
    {
     "data": {
      "text/plain": [
       "(53940, 10)"
      ]
     },
     "execution_count": 22,
     "metadata": {},
     "output_type": "execute_result"
    }
   ],
   "source": [
    "dfd.shape"
   ]
  },
  {
   "cell_type": "markdown",
   "id": "07fa19e3",
   "metadata": {},
   "source": [
    "The dataset contains 53940 rows and 10 columns"
   ]
  },
  {
   "cell_type": "code",
   "execution_count": 23,
   "id": "ff62e8c5",
   "metadata": {},
   "outputs": [
    {
     "name": "stdout",
     "output_type": "stream",
     "text": [
      "<class 'pandas.core.frame.DataFrame'>\n",
      "RangeIndex: 53940 entries, 0 to 53939\n",
      "Data columns (total 10 columns):\n",
      " #   Column   Non-Null Count  Dtype  \n",
      "---  ------   --------------  -----  \n",
      " 0   carat    53940 non-null  float64\n",
      " 1   cut      53940 non-null  object \n",
      " 2   color    53940 non-null  object \n",
      " 3   clarity  53940 non-null  object \n",
      " 4   depth    53940 non-null  float64\n",
      " 5   table    53940 non-null  float64\n",
      " 6   price    53940 non-null  int64  \n",
      " 7   x        53940 non-null  float64\n",
      " 8   y        53940 non-null  float64\n",
      " 9   z        53940 non-null  float64\n",
      "dtypes: float64(6), int64(1), object(3)\n",
      "memory usage: 4.1+ MB\n"
     ]
    }
   ],
   "source": [
    "dfd.info ()"
   ]
  },
  {
   "cell_type": "code",
   "execution_count": 24,
   "id": "35652852",
   "metadata": {
    "scrolled": true
   },
   "outputs": [
    {
     "data": {
      "text/html": [
       "<div>\n",
       "<style scoped>\n",
       "    .dataframe tbody tr th:only-of-type {\n",
       "        vertical-align: middle;\n",
       "    }\n",
       "\n",
       "    .dataframe tbody tr th {\n",
       "        vertical-align: top;\n",
       "    }\n",
       "\n",
       "    .dataframe thead th {\n",
       "        text-align: right;\n",
       "    }\n",
       "</style>\n",
       "<table border=\"1\" class=\"dataframe\">\n",
       "  <thead>\n",
       "    <tr style=\"text-align: right;\">\n",
       "      <th></th>\n",
       "      <th>carat</th>\n",
       "      <th>depth</th>\n",
       "      <th>table</th>\n",
       "      <th>price</th>\n",
       "      <th>x</th>\n",
       "      <th>y</th>\n",
       "      <th>z</th>\n",
       "    </tr>\n",
       "  </thead>\n",
       "  <tbody>\n",
       "    <tr>\n",
       "      <th>count</th>\n",
       "      <td>53940.000000</td>\n",
       "      <td>53940.000000</td>\n",
       "      <td>53940.000000</td>\n",
       "      <td>53940.000000</td>\n",
       "      <td>53940.000000</td>\n",
       "      <td>53940.000000</td>\n",
       "      <td>53940.000000</td>\n",
       "    </tr>\n",
       "    <tr>\n",
       "      <th>mean</th>\n",
       "      <td>0.797940</td>\n",
       "      <td>61.749405</td>\n",
       "      <td>57.457184</td>\n",
       "      <td>3932.799722</td>\n",
       "      <td>5.731157</td>\n",
       "      <td>5.734526</td>\n",
       "      <td>3.538734</td>\n",
       "    </tr>\n",
       "    <tr>\n",
       "      <th>std</th>\n",
       "      <td>0.474011</td>\n",
       "      <td>1.432621</td>\n",
       "      <td>2.234491</td>\n",
       "      <td>3989.439738</td>\n",
       "      <td>1.121761</td>\n",
       "      <td>1.142135</td>\n",
       "      <td>0.705699</td>\n",
       "    </tr>\n",
       "    <tr>\n",
       "      <th>min</th>\n",
       "      <td>0.200000</td>\n",
       "      <td>43.000000</td>\n",
       "      <td>43.000000</td>\n",
       "      <td>326.000000</td>\n",
       "      <td>0.000000</td>\n",
       "      <td>0.000000</td>\n",
       "      <td>0.000000</td>\n",
       "    </tr>\n",
       "    <tr>\n",
       "      <th>25%</th>\n",
       "      <td>0.400000</td>\n",
       "      <td>61.000000</td>\n",
       "      <td>56.000000</td>\n",
       "      <td>950.000000</td>\n",
       "      <td>4.710000</td>\n",
       "      <td>4.720000</td>\n",
       "      <td>2.910000</td>\n",
       "    </tr>\n",
       "    <tr>\n",
       "      <th>50%</th>\n",
       "      <td>0.700000</td>\n",
       "      <td>61.800000</td>\n",
       "      <td>57.000000</td>\n",
       "      <td>2401.000000</td>\n",
       "      <td>5.700000</td>\n",
       "      <td>5.710000</td>\n",
       "      <td>3.530000</td>\n",
       "    </tr>\n",
       "    <tr>\n",
       "      <th>75%</th>\n",
       "      <td>1.040000</td>\n",
       "      <td>62.500000</td>\n",
       "      <td>59.000000</td>\n",
       "      <td>5324.250000</td>\n",
       "      <td>6.540000</td>\n",
       "      <td>6.540000</td>\n",
       "      <td>4.040000</td>\n",
       "    </tr>\n",
       "    <tr>\n",
       "      <th>max</th>\n",
       "      <td>5.010000</td>\n",
       "      <td>79.000000</td>\n",
       "      <td>95.000000</td>\n",
       "      <td>18823.000000</td>\n",
       "      <td>10.740000</td>\n",
       "      <td>58.900000</td>\n",
       "      <td>31.800000</td>\n",
       "    </tr>\n",
       "  </tbody>\n",
       "</table>\n",
       "</div>"
      ],
      "text/plain": [
       "              carat         depth         table         price             x  \\\n",
       "count  53940.000000  53940.000000  53940.000000  53940.000000  53940.000000   \n",
       "mean       0.797940     61.749405     57.457184   3932.799722      5.731157   \n",
       "std        0.474011      1.432621      2.234491   3989.439738      1.121761   \n",
       "min        0.200000     43.000000     43.000000    326.000000      0.000000   \n",
       "25%        0.400000     61.000000     56.000000    950.000000      4.710000   \n",
       "50%        0.700000     61.800000     57.000000   2401.000000      5.700000   \n",
       "75%        1.040000     62.500000     59.000000   5324.250000      6.540000   \n",
       "max        5.010000     79.000000     95.000000  18823.000000     10.740000   \n",
       "\n",
       "                  y             z  \n",
       "count  53940.000000  53940.000000  \n",
       "mean       5.734526      3.538734  \n",
       "std        1.142135      0.705699  \n",
       "min        0.000000      0.000000  \n",
       "25%        4.720000      2.910000  \n",
       "50%        5.710000      3.530000  \n",
       "75%        6.540000      4.040000  \n",
       "max       58.900000     31.800000  "
      ]
     },
     "execution_count": 24,
     "metadata": {},
     "output_type": "execute_result"
    }
   ],
   "source": [
    "dfd.describe ()"
   ]
  },
  {
   "cell_type": "markdown",
   "id": "c9ce02d7",
   "metadata": {},
   "source": [
    "These statistics provide a summary of the distribution and central tendency of the variables in the dataset:\n",
    "\n",
    "carat: The average carat weight of diamonds is approximately 0.798, with a standard deviation of around 0.474. The range of carat weights extends from a minimum of 0.2 to a maximum of 5.01.\n",
    "\n",
    "depth: The average depth percentage of diamonds is approximately 61.75%, with a standard deviation of around 1.43. The depth values range from a minimum of 43 to a maximum of 79.\n",
    "\n",
    "table: The average table percentage of diamonds is approximately 57.46%, with a standard deviation of around 2.23. Table values range from a minimum of 43 to a maximum of 95.\n",
    "\n",
    "price: The average price of diamonds is approximately $3932.80, \n",
    "with stand deviation around $3989.44. Prices vary widely, from a minimum of $326 to a maximum of $18823.\n",
    "\n",
    "x, y, z: These represent the dimensions of diamonds in length, width, and depth, respectively. The averages are approximately 5.73, 5.73, and 3.54, with corresponding standard deviations of approximately 1.12, 1.14, and 0.71. The range of values for each dimension varies widely, with some extreme values observed, especially for \"z\", which ranges from 0 to 31.8."
   ]
  },
  {
   "cell_type": "code",
   "execution_count": 25,
   "id": "3d2afe84",
   "metadata": {},
   "outputs": [
    {
     "data": {
      "text/html": [
       "<div>\n",
       "<style scoped>\n",
       "    .dataframe tbody tr th:only-of-type {\n",
       "        vertical-align: middle;\n",
       "    }\n",
       "\n",
       "    .dataframe tbody tr th {\n",
       "        vertical-align: top;\n",
       "    }\n",
       "\n",
       "    .dataframe thead th {\n",
       "        text-align: right;\n",
       "    }\n",
       "</style>\n",
       "<table border=\"1\" class=\"dataframe\">\n",
       "  <thead>\n",
       "    <tr style=\"text-align: right;\">\n",
       "      <th></th>\n",
       "      <th>cut</th>\n",
       "      <th>color</th>\n",
       "      <th>clarity</th>\n",
       "    </tr>\n",
       "  </thead>\n",
       "  <tbody>\n",
       "    <tr>\n",
       "      <th>count</th>\n",
       "      <td>53940</td>\n",
       "      <td>53940</td>\n",
       "      <td>53940</td>\n",
       "    </tr>\n",
       "    <tr>\n",
       "      <th>unique</th>\n",
       "      <td>5</td>\n",
       "      <td>7</td>\n",
       "      <td>8</td>\n",
       "    </tr>\n",
       "    <tr>\n",
       "      <th>top</th>\n",
       "      <td>Ideal</td>\n",
       "      <td>G</td>\n",
       "      <td>SI1</td>\n",
       "    </tr>\n",
       "    <tr>\n",
       "      <th>freq</th>\n",
       "      <td>21551</td>\n",
       "      <td>11292</td>\n",
       "      <td>13065</td>\n",
       "    </tr>\n",
       "  </tbody>\n",
       "</table>\n",
       "</div>"
      ],
      "text/plain": [
       "          cut  color clarity\n",
       "count   53940  53940   53940\n",
       "unique      5      7       8\n",
       "top     Ideal      G     SI1\n",
       "freq    21551  11292   13065"
      ]
     },
     "execution_count": 25,
     "metadata": {},
     "output_type": "execute_result"
    }
   ],
   "source": [
    "dfd.describe(include=\"object\")"
   ]
  },
  {
   "cell_type": "code",
   "execution_count": 26,
   "id": "bfe9dcf9",
   "metadata": {},
   "outputs": [
    {
     "data": {
      "text/plain": [
       "carat      0\n",
       "cut        0\n",
       "color      0\n",
       "clarity    0\n",
       "depth      0\n",
       "table      0\n",
       "price      0\n",
       "x          0\n",
       "y          0\n",
       "z          0\n",
       "dtype: int64"
      ]
     },
     "execution_count": 26,
     "metadata": {},
     "output_type": "execute_result"
    }
   ],
   "source": [
    "dfd.isnull().sum()"
   ]
  },
  {
   "cell_type": "markdown",
   "id": "e1d09a5a",
   "metadata": {},
   "source": [
    "No missing values were identified in the dataset"
   ]
  },
  {
   "cell_type": "markdown",
   "id": "a52cfebd",
   "metadata": {},
   "source": [
    "Creating a binary variable: We will create a new binary variable in the dataset called \"colourless\" which will have a value of 1 for rows with colorless diamonds (those with color grades from \"D\" to \"F\") and 0 for rows with diamonds that are not colorless (grades from \"G\" to \"J\")."
   ]
  },
  {
   "cell_type": "code",
   "execution_count": 27,
   "id": "1ed92e38",
   "metadata": {},
   "outputs": [],
   "source": [
    "dfd['colorless'] = dfd['color'].apply(lambda x: 1 if x in ['D', 'E', 'F'] else 0)"
   ]
  },
  {
   "cell_type": "markdown",
   "id": "0f42b4f7",
   "metadata": {},
   "source": [
    "Visualizing the Data After Creating the New Variable"
   ]
  },
  {
   "cell_type": "code",
   "execution_count": 28,
   "id": "da6246fd",
   "metadata": {},
   "outputs": [
    {
     "data": {
      "text/html": [
       "<div>\n",
       "<style scoped>\n",
       "    .dataframe tbody tr th:only-of-type {\n",
       "        vertical-align: middle;\n",
       "    }\n",
       "\n",
       "    .dataframe tbody tr th {\n",
       "        vertical-align: top;\n",
       "    }\n",
       "\n",
       "    .dataframe thead th {\n",
       "        text-align: right;\n",
       "    }\n",
       "</style>\n",
       "<table border=\"1\" class=\"dataframe\">\n",
       "  <thead>\n",
       "    <tr style=\"text-align: right;\">\n",
       "      <th></th>\n",
       "      <th>carat</th>\n",
       "      <th>cut</th>\n",
       "      <th>color</th>\n",
       "      <th>clarity</th>\n",
       "      <th>depth</th>\n",
       "      <th>table</th>\n",
       "      <th>price</th>\n",
       "      <th>x</th>\n",
       "      <th>y</th>\n",
       "      <th>z</th>\n",
       "      <th>colorless</th>\n",
       "    </tr>\n",
       "  </thead>\n",
       "  <tbody>\n",
       "    <tr>\n",
       "      <th>0</th>\n",
       "      <td>0.23</td>\n",
       "      <td>Ideal</td>\n",
       "      <td>E</td>\n",
       "      <td>SI2</td>\n",
       "      <td>61.5</td>\n",
       "      <td>55.0</td>\n",
       "      <td>326</td>\n",
       "      <td>3.95</td>\n",
       "      <td>3.98</td>\n",
       "      <td>2.43</td>\n",
       "      <td>1</td>\n",
       "    </tr>\n",
       "    <tr>\n",
       "      <th>1</th>\n",
       "      <td>0.21</td>\n",
       "      <td>Premium</td>\n",
       "      <td>E</td>\n",
       "      <td>SI1</td>\n",
       "      <td>59.8</td>\n",
       "      <td>61.0</td>\n",
       "      <td>326</td>\n",
       "      <td>3.89</td>\n",
       "      <td>3.84</td>\n",
       "      <td>2.31</td>\n",
       "      <td>1</td>\n",
       "    </tr>\n",
       "    <tr>\n",
       "      <th>2</th>\n",
       "      <td>0.23</td>\n",
       "      <td>Good</td>\n",
       "      <td>E</td>\n",
       "      <td>VS1</td>\n",
       "      <td>56.9</td>\n",
       "      <td>65.0</td>\n",
       "      <td>327</td>\n",
       "      <td>4.05</td>\n",
       "      <td>4.07</td>\n",
       "      <td>2.31</td>\n",
       "      <td>1</td>\n",
       "    </tr>\n",
       "    <tr>\n",
       "      <th>3</th>\n",
       "      <td>0.29</td>\n",
       "      <td>Premium</td>\n",
       "      <td>I</td>\n",
       "      <td>VS2</td>\n",
       "      <td>62.4</td>\n",
       "      <td>58.0</td>\n",
       "      <td>334</td>\n",
       "      <td>4.20</td>\n",
       "      <td>4.23</td>\n",
       "      <td>2.63</td>\n",
       "      <td>0</td>\n",
       "    </tr>\n",
       "    <tr>\n",
       "      <th>4</th>\n",
       "      <td>0.31</td>\n",
       "      <td>Good</td>\n",
       "      <td>J</td>\n",
       "      <td>SI2</td>\n",
       "      <td>63.3</td>\n",
       "      <td>58.0</td>\n",
       "      <td>335</td>\n",
       "      <td>4.34</td>\n",
       "      <td>4.35</td>\n",
       "      <td>2.75</td>\n",
       "      <td>0</td>\n",
       "    </tr>\n",
       "  </tbody>\n",
       "</table>\n",
       "</div>"
      ],
      "text/plain": [
       "   carat      cut color clarity  depth  table  price     x     y     z  \\\n",
       "0   0.23    Ideal     E     SI2   61.5   55.0    326  3.95  3.98  2.43   \n",
       "1   0.21  Premium     E     SI1   59.8   61.0    326  3.89  3.84  2.31   \n",
       "2   0.23     Good     E     VS1   56.9   65.0    327  4.05  4.07  2.31   \n",
       "3   0.29  Premium     I     VS2   62.4   58.0    334  4.20  4.23  2.63   \n",
       "4   0.31     Good     J     SI2   63.3   58.0    335  4.34  4.35  2.75   \n",
       "\n",
       "   colorless  \n",
       "0          1  \n",
       "1          1  \n",
       "2          1  \n",
       "3          0  \n",
       "4          0  "
      ]
     },
     "execution_count": 28,
     "metadata": {},
     "output_type": "execute_result"
    }
   ],
   "source": [
    "dfd.head()"
   ]
  },
  {
   "cell_type": "code",
   "execution_count": 29,
   "id": "52f1833e",
   "metadata": {},
   "outputs": [
    {
     "name": "stdout",
     "output_type": "stream",
     "text": [
      "<class 'pandas.core.frame.DataFrame'>\n",
      "RangeIndex: 53940 entries, 0 to 53939\n",
      "Data columns (total 11 columns):\n",
      " #   Column     Non-Null Count  Dtype  \n",
      "---  ------     --------------  -----  \n",
      " 0   carat      53940 non-null  float64\n",
      " 1   cut        53940 non-null  object \n",
      " 2   color      53940 non-null  object \n",
      " 3   clarity    53940 non-null  object \n",
      " 4   depth      53940 non-null  float64\n",
      " 5   table      53940 non-null  float64\n",
      " 6   price      53940 non-null  int64  \n",
      " 7   x          53940 non-null  float64\n",
      " 8   y          53940 non-null  float64\n",
      " 9   z          53940 non-null  float64\n",
      " 10  colorless  53940 non-null  int64  \n",
      "dtypes: float64(6), int64(2), object(3)\n",
      "memory usage: 4.5+ MB\n"
     ]
    }
   ],
   "source": [
    "dfd.info()"
   ]
  },
  {
   "cell_type": "code",
   "execution_count": 30,
   "id": "2c6c071c",
   "metadata": {},
   "outputs": [
    {
     "data": {
      "text/plain": [
       "0"
      ]
     },
     "execution_count": 30,
     "metadata": {},
     "output_type": "execute_result"
    }
   ],
   "source": [
    "dfd.isnull().sum().sum()"
   ]
  },
  {
   "cell_type": "markdown",
   "id": "8fef5b0c",
   "metadata": {},
   "source": [
    "No missing values after change"
   ]
  },
  {
   "cell_type": "markdown",
   "id": "dc7273be",
   "metadata": {},
   "source": [
    "# 3.3 - Data Exploration"
   ]
  },
  {
   "cell_type": "code",
   "execution_count": 31,
   "id": "59810432",
   "metadata": {},
   "outputs": [
    {
     "data": {
      "image/png": "[encoded data removed]",
      "text/plain": [
       "<Figure size 800x600 with 2 Axes>"
      ]
     },
     "metadata": {},
     "output_type": "display_data"
    }
   ],
   "source": [
    "import seaborn as sns\n",
    "\n",
    "# Select the numerical variables\n",
    "numeric_variables = dfd[['price', 'carat', 'depth', 'table']]\n",
    "\n",
    "# Calculate the correlation coefficients\n",
    "correlation_matrix = numeric_variables.corr()\n",
    "\n",
    "# Plot the correlation matrix as a heatmap\n",
    "plt.figure(figsize=(8, 6))\n",
    "sns.heatmap(correlation_matrix, annot=True, cmap='coolwarm', fmt=\".2f\", linewidths=0.5)\n",
    "plt.title('Correlation Matrix')\n",
    "plt.show()\n"
   ]
  },
  {
   "cell_type": "markdown",
   "id": "a2c1a71d",
   "metadata": {},
   "source": [
    "The correlation matrix reveals linear relationships among numerical variables in a dataset. In the context of diamonds, the analysis unveiled:\n",
    "\n",
    "A strong positive correlation between price and carat weight of diamonds, suggesting that price tends to increase with increasing weight.\n",
    "Weak correlations between price and depth, as well as between price and table width of diamonds. This implies that these characteristics have minimal influence on price.\n",
    "A moderate negative correlation between depth and table width, indicating an inverse relationship between these two characteristics.\n",
    "These findings aid in understanding how different characteristics of diamonds relate to their prices."
   ]
  },
  {
   "cell_type": "code",
   "execution_count": 32,
   "id": "cd838ce9",
   "metadata": {},
   "outputs": [
    {
     "data": {
      "image/png": "[encoded data removed]",
      "text/plain": [
       "<Figure size 1000x600 with 1 Axes>"
      ]
     },
     "metadata": {},
     "output_type": "display_data"
    }
   ],
   "source": [
    "import seaborn as sns\n",
    "\n",
    "# Create a boxplot to compare the average prices of diamonds by color\n",
    "plt.figure(figsize=(10, 6))\n",
    "sns.boxplot(x='color', y='price', data=dfd, palette='viridis')\n",
    "plt.title('Price Analysis by Diamond Color')\n",
    "plt.xlabel('Diamond Color')\n",
    "plt.ylabel('Price')\n",
    "plt.show()\n"
   ]
  },
  {
   "cell_type": "markdown",
   "id": "a74c4b37",
   "metadata": {},
   "source": [
    "The graph shows us the frequency of colors and the correlation with the price of diamonds"
   ]
  },
  {
   "cell_type": "code",
   "execution_count": 33,
   "id": "80e3664d",
   "metadata": {},
   "outputs": [
    {
     "data": {
      "image/png": "[encoded data removed]",
      "text/plain": [
       "<Figure size 640x480 with 1 Axes>"
      ]
     },
     "metadata": {},
     "output_type": "display_data"
    }
   ],
   "source": [
    "import matplotlib.pyplot as plt\n",
    "\n",
    "# Analyze the distribution of the diamond color variable\n",
    "cor_counts = dfd['color'].value_counts()\n",
    "\n",
    "# Visualize the distribution using a bar plot\n",
    "cor_counts.plot(kind='bar', color='skyblue', edgecolor='black')\n",
    "plt.title('Distribution of Diamond Color Variable')\n",
    "plt.xlabel('Color')\n",
    "plt.ylabel('Frequency')\n",
    "plt.xticks(rotation=0)  # Adjust the rotation of the x-axis label\n",
    "plt.grid(axis='y', linestyle='--', alpha=0.7)\n",
    "plt.show()\n"
   ]
  },
  {
   "cell_type": "markdown",
   "id": "2fc029c6",
   "metadata": {},
   "source": [
    "In the graph above, we can see that the G-colored diamond is the one with the highest volume in the sample"
   ]
  },
  {
   "cell_type": "code",
   "execution_count": 34,
   "id": "78232563",
   "metadata": {},
   "outputs": [
    {
     "data": {
      "image/png": "[encoded data removed]",
      "text/plain": [
       "<Figure size 640x480 with 1 Axes>"
      ]
     },
     "metadata": {},
     "output_type": "display_data"
    }
   ],
   "source": [
    "import matplotlib.pyplot as plt\n",
    "\n",
    "# Calculate the proportion of colorless diamonds (D to F) and diamonds of other colors (G to J)\n",
    "colorless_count = dfd[dfd['color'].isin(['D', 'E', 'F'])]['color'].count()\n",
    "other_color_count = dfd[dfd['color'].isin(['G', 'H', 'I', 'J'])]['color'].count()\n",
    "\n",
    "total_count = len(dfd)\n",
    "\n",
    "# Calculate proportions\n",
    "colorless_proportion = colorless_count / total_count\n",
    "other_color_proportion = other_color_count / total_count\n",
    "\n",
    "# Create a bar plot\n",
    "labels = ['Colorless (D-F)', 'Other Colors (G-J)']\n",
    "proportions = [colorless_proportion, other_color_proportion]\n",
    "colors = ['skyblue', 'lightcoral']\n",
    "\n",
    "plt.bar(labels, proportions, color=colors)\n",
    "plt.title('Proportion of Colorless Diamonds vs Other Colors')\n",
    "plt.xlabel('Diamond Color')\n",
    "plt.ylabel('Proportion')\n",
    "plt.show()\n"
   ]
  },
  {
   "cell_type": "markdown",
   "id": "c9890a79",
   "metadata": {},
   "source": [
    "The chart shows the ratio of colorless diamonds (D to F) compared to diamonds of other colors (G to J). In this case, we can identify that diamonds of other colors have a higher proportion"
   ]
  },
  {
   "cell_type": "markdown",
   "id": "a459eb93",
   "metadata": {},
   "source": [
    "# 3.4 - Outliers "
   ]
  },
  {
   "cell_type": "code",
   "execution_count": 35,
   "id": "5625b0a5",
   "metadata": {},
   "outputs": [
    {
     "data": {
      "text/plain": [
       "<Axes: xlabel='colorless'>"
      ]
     },
     "execution_count": 35,
     "metadata": {},
     "output_type": "execute_result"
    },
    {
     "data": {
      "image/png": "[encoded data removed]",
      "text/plain": [
       "<Figure size 640x480 with 1 Axes>"
      ]
     },
     "metadata": {},
     "output_type": "display_data"
    }
   ],
   "source": [
    "sns.boxplot(x=dfd[\"colorless\"])"
   ]
  },
  {
   "cell_type": "markdown",
   "id": "dc666632",
   "metadata": {},
   "source": [
    "No outliers to assess for removal"
   ]
  },
  {
   "cell_type": "markdown",
   "id": "08523685",
   "metadata": {},
   "source": [
    "# 3.5 - Hypothesis Testing\n",
    "\n",
    "Contextualizing the hypothesis test: The objective of the hypothesis test conducted below is to examine whether there is a significant association between the clarity of a diamond and whether it is colorless or not. We will utilize a significance level (alpha) of 0.01 to determine the statistical significance of any observed associations.\n",
    "\n",
    "The chosen hypothesis test: To evaluate the association between diamond clarity and color, we will use the Chi-square test of independence. \n",
    "\n",
    "Chi-square test: This test assesses whether there is a significant association between two categorical variables, in this case, clarity and color. It calculates the expected frequencies for each combination of categories under the assumption of independence and compares them to the observed frequencies in the dataset. If the difference between the expected and observed frequencies is large enough, the null hypothesis of independence is rejected, indicating that there is a significant association between the variables.\n",
    "\n"
   ]
  },
  {
   "cell_type": "code",
   "execution_count": 36,
   "id": "f05d8647",
   "metadata": {},
   "outputs": [
    {
     "name": "stdout",
     "output_type": "stream",
     "text": [
      "Chi-square statistic: 486.47305941485223\n",
      "p-value: 6.481587124454715e-101\n"
     ]
    }
   ],
   "source": [
    "from scipy.stats import chi2_contingency\n",
    "\n",
    "# Create a contingency table between the variable \"colourless\" and the variable \"clarity\"\n",
    "contingency_table = pd.crosstab(dfd['clarity'], dfd['colorless'])\n",
    "\n",
    "# Perform the chi-square test of independence\n",
    "chi2, p, dof, expected = chi2_contingency(contingency_table)\n",
    "print(\"Chi-square statistic:\", chi2)\n",
    "print(\"p-value:\", p)"
   ]
  },
  {
   "cell_type": "code",
   "execution_count": 37,
   "id": "366f6444",
   "metadata": {},
   "outputs": [
    {
     "data": {
      "image/png": "[encoded data removed]",
      "text/plain": [
       "<Figure size 1000x600 with 1 Axes>"
      ]
     },
     "metadata": {},
     "output_type": "display_data"
    }
   ],
   "source": [
    "import matplotlib.pyplot as plt\n",
    "\n",
    "# Plot the observed frequencies for each clarity category\n",
    "contingency_table.plot(kind='bar', figsize=(10, 6), color=['skyblue', 'lightcoral'])\n",
    "\n",
    "# Add labels and title\n",
    "plt.title('Observed Frequencies of Diamond Clarity by Colorlessness')\n",
    "plt.xlabel('Clarity')\n",
    "plt.ylabel('Frequency')\n",
    "plt.xticks(rotation=0)  # Adjust the rotation of the x-axis label\n",
    "\n",
    "# Show the plot\n",
    "plt.legend(title='Colorless', labels=['Non-colorless', 'Colorless'])\n",
    "plt.grid(axis='y', linestyle='--', alpha=0.7)\n",
    "plt.show()\n"
   ]
  },
  {
   "cell_type": "markdown",
   "id": "cd8eec26",
   "metadata": {},
   "source": [
    " Find and interpret 90% confidence intervals:"
   ]
  },
  {
   "cell_type": "code",
   "execution_count": 38,
   "id": "bc649b1b",
   "metadata": {},
   "outputs": [
    {
     "name": "stdout",
     "output_type": "stream",
     "text": [
      "90% confidence interval for mean price of colorless diamonds: (3301.857515879007, 3373.661286296071)\n",
      "90% confidence interval for mean price of non-colorless diamonds: (4448.778068284649, 4533.682076903305)\n"
     ]
    }
   ],
   "source": [
    "import scipy.stats as stats\n",
    "\n",
    "# 90% confidence interval for the mean price of colorless diamonds\n",
    "colorless_prices = dfd[dfd['colorless'] == 1]['price']\n",
    "ci_colorless = stats.t.interval(0.90, len(colorless_prices)-1, loc=colorless_prices.mean(), scale=stats.sem(colorless_prices))\n",
    "print(\"90% confidence interval for mean price of colorless diamonds:\", ci_colorless)\n",
    "\n",
    "# 90% confidence interval for the mean price of non-colorless diamonds\n",
    "non_colorless_prices = dfd[dfd['colorless'] == 0]['price']\n",
    "ci_non_colorless = stats.t.interval(0.90, len(non_colorless_prices)-1, loc=non_colorless_prices.mean(), scale=stats.sem(non_colorless_prices))\n",
    "print(\"90% confidence interval for mean price of non-colorless diamonds:\", ci_non_colorless)\n"
   ]
  },
  {
   "cell_type": "code",
   "execution_count": 39,
   "id": "5a9d0275",
   "metadata": {},
   "outputs": [
    {
     "data": {
      "image/png": "[encoded data removed]",
      "text/plain": [
       "<Figure size 800x600 with 1 Axes>"
      ]
     },
     "metadata": {},
     "output_type": "display_data"
    }
   ],
   "source": [
    "import matplotlib.pyplot as plt\n",
    "\n",
    "# Define the data\n",
    "categories = ['Colorless', 'Non-Colorless']\n",
    "means = [3337.76, 4491.23]  # Mean prices\n",
    "errors = [(3373.66 - 3301.86) / 2, (4533.68 - 4448.78) / 2]  # Half of the confidence interval for each category\n",
    "\n",
    "# Create the bar chart with confidence intervals\n",
    "plt.figure(figsize=(8, 6))\n",
    "plt.bar(categories, means, yerr=errors, capsize=10, color=['skyblue', 'lightcoral'])\n",
    "plt.title('Mean Price of Colorless vs Non-Colorless Diamonds with 90% Confidence Intervals')\n",
    "plt.xlabel('Diamond Type')\n",
    "plt.ylabel('Mean Price')\n",
    "plt.show()\n"
   ]
  },
  {
   "cell_type": "markdown",
   "id": "91b6f0c8",
   "metadata": {},
   "source": [
    "# 3.6 - Conclusion Hyphotesis test\n",
    "\n",
    "The chi-square test results reveal a chi-square statistic of approximately 486.47, with a p-value very close to zero. These findings provide strong statistical evidence to reject the null hypothesis of independence between diamond clarity and color. Essentially, this means that diamond clarity and color are significantly associated. With such a minuscule p-value, practically insignificant compared to the significance level of 0.01, it suggests that the probability of observing such a strong association between clarity and color of diamonds by chance is extremely low, nearly negligible. Thus, we can have high confidence that the association between these variables is genuine and not due to random fluctuations. Consequently, the results indicate that diamond clarity and color are correlated in some way in the analyzed dataset.\n",
    "\n",
    "The results provide 90% confidence intervals for the mean price of both colorless and non-colorless diamonds. These intervals represent ranges where the true average price of diamonds is likely to fall, with a 90% level of confidence. For colorless diamonds, the interval ranges approximately from $3301.86 to $3373.66, meaning we can be 90% confident that the actual average price of colorless diamonds lies within this range. Similarly, for non-colorless diamonds, the interval ranges approximately from $4448.78  to $4533.68, indicating we can be 90% confident that the actual average price of non-colorless diamonds lies within this interval. In summary, these intervals provide an estimate of the mean price of diamonds with a high degree of confidence, helping to better understand the range of values within which these diamonds can be traded."
   ]
  },
  {
   "cell_type": "markdown",
   "id": "8fe3875f",
   "metadata": {},
   "source": [
    "# 4 Task 3 - PlantGrowth"
   ]
  },
  {
   "cell_type": "markdown",
   "id": "f598efc5",
   "metadata": {},
   "source": [
    "In task 3, we will analyze the PlantGrowth dataset from the pydataset library. This dataset examines plant yields under a control condition and two different treatments. We will analyze descriptive statistics, conduct data exploration, and perform hypothesis testing to assess if there is a significant difference between the means of the three groups.\n",
    "\n",
    "\n",
    "a. Find and comment on important summary statistics by treatment and produce an \n",
    "appropriate plot to summarise the dataset.\n",
    "\n",
    "b. Conduct an appropriate hypothesis test to see if there is evidence of a difference between \n",
    "the three means (that is, the control and the two treatments). Use a significance level of \n",
    "alpha = 0.05. \n",
    "\n",
    "c. If there is evidence of a difference between the three means, find and comment on where \n",
    "this difference may be.\n",
    "\n",
    "\n",
    "\n",
    "\n",
    "\n",
    "\n",
    "\n",
    "\n",
    "\n"
   ]
  },
  {
   "cell_type": "code",
   "execution_count": 40,
   "id": "ca49ec61",
   "metadata": {},
   "outputs": [
    {
     "name": "stdout",
     "output_type": "stream",
     "text": [
      "Requirement already satisfied: pydataset in c:\\users\\ana paula damasceno\\anaconda3\\lib\\site-packages (0.2.0)\n",
      "Requirement already satisfied: pandas in c:\\users\\ana paula damasceno\\anaconda3\\lib\\site-packages (from pydataset) (2.0.3)\n",
      "Requirement already satisfied: python-dateutil>=2.8.2 in c:\\users\\ana paula damasceno\\anaconda3\\lib\\site-packages (from pandas->pydataset) (2.8.2)\n",
      "Requirement already satisfied: pytz>=2020.1 in c:\\users\\ana paula damasceno\\anaconda3\\lib\\site-packages (from pandas->pydataset) (2023.3.post1)\n",
      "Requirement already satisfied: tzdata>=2022.1 in c:\\users\\ana paula damasceno\\anaconda3\\lib\\site-packages (from pandas->pydataset) (2023.3)\n",
      "Requirement already satisfied: numpy>=1.21.0 in c:\\users\\ana paula damasceno\\anaconda3\\lib\\site-packages (from pandas->pydataset) (1.24.3)\n",
      "Requirement already satisfied: six>=1.5 in c:\\users\\ana paula damasceno\\anaconda3\\lib\\site-packages (from python-dateutil>=2.8.2->pandas->pydataset) (1.16.0)\n",
      "Note: you may need to restart the kernel to use updated packages.\n"
     ]
    }
   ],
   "source": [
    "pip install pydataset"
   ]
  },
  {
   "cell_type": "markdown",
   "id": "0addf545",
   "metadata": {},
   "source": [
    "# 4.1 Loading the file"
   ]
  },
  {
   "cell_type": "code",
   "execution_count": 41,
   "id": "a462109d",
   "metadata": {},
   "outputs": [],
   "source": [
    "from pydataset import data \n",
    "df_plant = data(\"PlantGrowth\")\n"
   ]
  },
  {
   "cell_type": "markdown",
   "id": "16754aa6",
   "metadata": {},
   "source": [
    "# 4.2 - Characterisation of the data set"
   ]
  },
  {
   "cell_type": "code",
   "execution_count": 42,
   "id": "6e92e8ed",
   "metadata": {},
   "outputs": [
    {
     "data": {
      "text/html": [
       "<div>\n",
       "<style scoped>\n",
       "    .dataframe tbody tr th:only-of-type {\n",
       "        vertical-align: middle;\n",
       "    }\n",
       "\n",
       "    .dataframe tbody tr th {\n",
       "        vertical-align: top;\n",
       "    }\n",
       "\n",
       "    .dataframe thead th {\n",
       "        text-align: right;\n",
       "    }\n",
       "</style>\n",
       "<table border=\"1\" class=\"dataframe\">\n",
       "  <thead>\n",
       "    <tr style=\"text-align: right;\">\n",
       "      <th></th>\n",
       "      <th>weight</th>\n",
       "      <th>group</th>\n",
       "    </tr>\n",
       "  </thead>\n",
       "  <tbody>\n",
       "    <tr>\n",
       "      <th>1</th>\n",
       "      <td>4.17</td>\n",
       "      <td>ctrl</td>\n",
       "    </tr>\n",
       "    <tr>\n",
       "      <th>2</th>\n",
       "      <td>5.58</td>\n",
       "      <td>ctrl</td>\n",
       "    </tr>\n",
       "    <tr>\n",
       "      <th>3</th>\n",
       "      <td>5.18</td>\n",
       "      <td>ctrl</td>\n",
       "    </tr>\n",
       "    <tr>\n",
       "      <th>4</th>\n",
       "      <td>6.11</td>\n",
       "      <td>ctrl</td>\n",
       "    </tr>\n",
       "    <tr>\n",
       "      <th>5</th>\n",
       "      <td>4.50</td>\n",
       "      <td>ctrl</td>\n",
       "    </tr>\n",
       "  </tbody>\n",
       "</table>\n",
       "</div>"
      ],
      "text/plain": [
       "   weight group\n",
       "1    4.17  ctrl\n",
       "2    5.58  ctrl\n",
       "3    5.18  ctrl\n",
       "4    6.11  ctrl\n",
       "5    4.50  ctrl"
      ]
     },
     "execution_count": 42,
     "metadata": {},
     "output_type": "execute_result"
    }
   ],
   "source": [
    "df_plant.head ()"
   ]
  },
  {
   "cell_type": "code",
   "execution_count": 43,
   "id": "ba9cd905",
   "metadata": {},
   "outputs": [
    {
     "data": {
      "text/plain": [
       "(30, 2)"
      ]
     },
     "execution_count": 43,
     "metadata": {},
     "output_type": "execute_result"
    }
   ],
   "source": [
    "df_plant.shape "
   ]
  },
  {
   "cell_type": "code",
   "execution_count": 44,
   "id": "a3a7bae8",
   "metadata": {},
   "outputs": [
    {
     "name": "stdout",
     "output_type": "stream",
     "text": [
      "<class 'pandas.core.frame.DataFrame'>\n",
      "Index: 30 entries, 1 to 30\n",
      "Data columns (total 2 columns):\n",
      " #   Column  Non-Null Count  Dtype  \n",
      "---  ------  --------------  -----  \n",
      " 0   weight  30 non-null     float64\n",
      " 1   group   30 non-null     object \n",
      "dtypes: float64(1), object(1)\n",
      "memory usage: 720.0+ bytes\n"
     ]
    }
   ],
   "source": [
    "df_plant.info ()"
   ]
  },
  {
   "cell_type": "code",
   "execution_count": 45,
   "id": "5b81ead0",
   "metadata": {},
   "outputs": [
    {
     "data": {
      "text/html": [
       "<div>\n",
       "<style scoped>\n",
       "    .dataframe tbody tr th:only-of-type {\n",
       "        vertical-align: middle;\n",
       "    }\n",
       "\n",
       "    .dataframe tbody tr th {\n",
       "        vertical-align: top;\n",
       "    }\n",
       "\n",
       "    .dataframe thead th {\n",
       "        text-align: right;\n",
       "    }\n",
       "</style>\n",
       "<table border=\"1\" class=\"dataframe\">\n",
       "  <thead>\n",
       "    <tr style=\"text-align: right;\">\n",
       "      <th></th>\n",
       "      <th>weight</th>\n",
       "    </tr>\n",
       "  </thead>\n",
       "  <tbody>\n",
       "    <tr>\n",
       "      <th>count</th>\n",
       "      <td>30.000000</td>\n",
       "    </tr>\n",
       "    <tr>\n",
       "      <th>mean</th>\n",
       "      <td>5.073000</td>\n",
       "    </tr>\n",
       "    <tr>\n",
       "      <th>std</th>\n",
       "      <td>0.701192</td>\n",
       "    </tr>\n",
       "    <tr>\n",
       "      <th>min</th>\n",
       "      <td>3.590000</td>\n",
       "    </tr>\n",
       "    <tr>\n",
       "      <th>25%</th>\n",
       "      <td>4.550000</td>\n",
       "    </tr>\n",
       "    <tr>\n",
       "      <th>50%</th>\n",
       "      <td>5.155000</td>\n",
       "    </tr>\n",
       "    <tr>\n",
       "      <th>75%</th>\n",
       "      <td>5.530000</td>\n",
       "    </tr>\n",
       "    <tr>\n",
       "      <th>max</th>\n",
       "      <td>6.310000</td>\n",
       "    </tr>\n",
       "  </tbody>\n",
       "</table>\n",
       "</div>"
      ],
      "text/plain": [
       "          weight\n",
       "count  30.000000\n",
       "mean    5.073000\n",
       "std     0.701192\n",
       "min     3.590000\n",
       "25%     4.550000\n",
       "50%     5.155000\n",
       "75%     5.530000\n",
       "max     6.310000"
      ]
     },
     "execution_count": 45,
     "metadata": {},
     "output_type": "execute_result"
    }
   ],
   "source": [
    "df_plant.describe ()"
   ]
  },
  {
   "cell_type": "code",
   "execution_count": 46,
   "id": "64476e4b",
   "metadata": {},
   "outputs": [
    {
     "name": "stdout",
     "output_type": "stream",
     "text": [
      "       count   mean       std   min     25%    50%     75%   max\n",
      "group                                                           \n",
      "ctrl    10.0  5.032  0.583091  4.17  4.5500  5.155  5.2925  6.11\n",
      "trt1    10.0  4.661  0.793676  3.59  4.2075  4.550  4.8700  6.03\n",
      "trt2    10.0  5.526  0.442573  4.92  5.2675  5.435  5.7350  6.31\n"
     ]
    }
   ],
   "source": [
    "# Calculate descriptive statistics for the weight of plants in each group\n",
    "summary_stats = df_plant.groupby('group')['weight'].describe()\n",
    "\n",
    "# Display the result\n",
    "print(summary_stats)\n"
   ]
  },
  {
   "cell_type": "markdown",
   "id": "6f9ce98c",
   "metadata": {},
   "source": [
    "Grupo Controle (ctrl):\n",
    "Média: Aproximadamente 5.03 and\n",
    "desvio Padrão: Aproximadamente 0.58\n",
    "\n",
    "Tratamento 1 (trt1):\n",
    "Média: Aproximadamente 4.66 and\n",
    "desvio Padrão: Aproximadamente 0.79\n",
    "\n",
    "Tratamento 2 (trt2):\n",
    "Média: Aproximadamente 5.53 and\n",
    "desvio Padrão: Aproximadamente 0.44\n",
    "\n",
    "Isso indica que os pesos médios das plantas diferem entre os grupos, com trt2 apresentando a maior média e trt1 a menor."
   ]
  },
  {
   "cell_type": "markdown",
   "id": "cd78a9a8",
   "metadata": {},
   "source": [
    "# 4.3 Data Exploration "
   ]
  },
  {
   "cell_type": "code",
   "execution_count": 47,
   "id": "7f64492e",
   "metadata": {},
   "outputs": [
    {
     "data": {
      "image/png": "[encoded data removed]",
      "text/plain": [
       "<Figure size 800x600 with 1 Axes>"
      ]
     },
     "metadata": {},
     "output_type": "display_data"
    }
   ],
   "source": [
    "import matplotlib.pyplot as plt\n",
    "\n",
    "# Observation count in each group\n",
    "count_by_group = df_plant['group'].value_counts()\n",
    "\n",
    "# Create the bar chart\n",
    "plt.figure(figsize=(8, 6))\n",
    "count_by_group.plot(kind='bar', color='skyblue')\n",
    "plt.title('Count of Observations by Group')\n",
    "plt.xlabel('Group')\n",
    "plt.ylabel('Count')\n",
    "plt.xticks(rotation=0)  \n",
    "plt.show()\n"
   ]
  },
  {
   "cell_type": "markdown",
   "id": "b521065f",
   "metadata": {},
   "source": [
    "We can observe through this graph that the dataset contains the same number of observations for all groups."
   ]
  },
  {
   "cell_type": "code",
   "execution_count": 48,
   "id": "3acd0fee",
   "metadata": {},
   "outputs": [
    {
     "name": "stderr",
     "output_type": "stream",
     "text": [
      "C:\\Users\\Ana Paula Damasceno\\AppData\\Local\\Temp\\ipykernel_14704\\2611696652.py:6: FutureWarning: \n",
      "\n",
      "The `ci` parameter is deprecated. Use `errorbar='sd'` for the same effect.\n",
      "\n",
      "  sns.barplot(x='group', y='weight', data=df_plant, ci='sd', capsize=0.1, palette='Blues')\n"
     ]
    },
    {
     "data": {
      "image/png": "[encoded data removed]",
      "text/plain": [
       "<Figure size 800x600 with 1 Axes>"
      ]
     },
     "metadata": {},
     "output_type": "display_data"
    }
   ],
   "source": [
    "import seaborn as sns\n",
    "import matplotlib.pyplot as plt\n",
    "\n",
    "# Criar o gráfico de barras com intervalos de confiança\n",
    "plt.figure(figsize=(8, 6))\n",
    "sns.barplot(x='group', y='weight', data=df_plant, ci='sd', capsize=0.1, palette='Blues')\n",
    "plt.title('Mean Weight by Group')\n",
    "plt.xlabel('Group')\n",
    "plt.ylabel('Mean Weight')\n",
    "plt.show()"
   ]
  },
  {
   "cell_type": "markdown",
   "id": "758e4b97",
   "metadata": {},
   "source": [
    "The bar chart with confidence intervals provides valuable insights into the effects of different treatments on plant weight. We observe that treatment 2 (trt2) results in a significantly higher mean plant weight compared to treatment 1 (trt1) and the control group (ctrl). This difference is visually highlighted by the higher mean bar for treatment 2.\n",
    "\n",
    "Furthermore, it's important to note that the variability in plant weights in treatment 1 is higher than in the other groups, indicating a less consistent response to the treatment. On the other hand, the lower variability in treatment 2 suggests a more uniform and predictable response.\n",
    "\n",
    "In summary, the bar chart offers a clear visual understanding of the differences in mean plant weights among the treatment groups, aiding in informing future decisions regarding cultivation strategies and treatment selection for optimizing plant growth.\n",
    "\n",
    "\n",
    "\n",
    "\n",
    "\n",
    "\n"
   ]
  },
  {
   "cell_type": "markdown",
   "id": "c40bbf7b",
   "metadata": {},
   "source": [
    "# 4.4 - Outliers "
   ]
  },
  {
   "cell_type": "code",
   "execution_count": 49,
   "id": "f95770e6",
   "metadata": {},
   "outputs": [
    {
     "data": {
      "text/plain": [
       "<Axes: xlabel='weight'>"
      ]
     },
     "execution_count": 49,
     "metadata": {},
     "output_type": "execute_result"
    },
    {
     "data": {
      "image/png": "[encoded data removed]",
      "text/plain": [
       "<Figure size 640x480 with 1 Axes>"
      ]
     },
     "metadata": {},
     "output_type": "display_data"
    }
   ],
   "source": [
    "sns.boxplot(x=df_plant[\"weight\"])"
   ]
  },
  {
   "cell_type": "markdown",
   "id": "199512e1",
   "metadata": {},
   "source": [
    "# 4.5 - Hypothesis Testing"
   ]
  },
  {
   "cell_type": "markdown",
   "id": "35eb2b20",
   "metadata": {},
   "source": [
    "Contextualizing the hypothesis test: The hypothesis test to be conducted aims to determine if there is a statistically significant difference between the means of the three groups: the control group and the two treatment groups. We will use a significance level (alpha) of 0.05. If the test results indicate evidence of a difference between the means, further analysis will be conducted to identify where this difference lies.\n",
    "\n",
    "To compare the means of the groups, we will use the ANOVA hypothesis test.\n",
    "\n",
    "ANOVA: The Analysis of Variance (ANOVA) hypothesis test is a statistical technique used to determine if there are significant differences between the means of three or more groups. It compares the variability within each group with the variability between the groups. The null hypothesis assumes that there are no significant differences between the means of the groups, while the alternative hypothesis suggests that at least one mean is significantly different from the others. If the resulting p-value from the ANOVA is less than a pre-determined significance level (such as 0.05), we reject the null hypothesis and conclude that there is at least one significantly different group mean."
   ]
  },
  {
   "cell_type": "code",
   "execution_count": 230,
   "id": "dc33c9a4",
   "metadata": {},
   "outputs": [
    {
     "name": "stdout",
     "output_type": "stream",
     "text": [
      "F-statistic: 4.846087862380136, p-value: 0.0159099583256229\n",
      "There is evidence of a significant difference between the means of the three groups.\n"
     ]
    }
   ],
   "source": [
    "import scipy.stats as stats\n",
    "\n",
    "# Perform ANOVA\n",
    "anova_result = stats.f_oneway(\n",
    "    df_plant[df_plant['group'] == 'ctrl']['weight'],\n",
    "    df_plant[df_plant['group'] == 'trt1']['weight'],\n",
    "    df_plant[df_plant['group'] == 'trt2']['weight']\n",
    ")\n",
    "\n",
    "print(f\"F-statistic: {anova_result.statistic}, p-value: {anova_result.pvalue}\")\n",
    "\n",
    "# Check if p-value is less than alpha (0.05)\n",
    "alpha = 0.05\n",
    "if anova_result.pvalue < alpha:\n",
    "    print(\"There is evidence of a significant difference between the means of the three groups.\")\n",
    "else:\n",
    "    print(\"There is no evidence of a significant difference between the means of the three groups.\")\n"
   ]
  },
  {
   "cell_type": "code",
   "execution_count": 273,
   "id": "95808347",
   "metadata": {},
   "outputs": [
    {
     "name": "stderr",
     "output_type": "stream",
     "text": [
      "C:\\Users\\Ana Paula Damasceno\\AppData\\Local\\Temp\\ipykernel_5736\\4080483842.py:6: FutureWarning: \n",
      "\n",
      "The `ci` parameter is deprecated. Use `errorbar='sd'` for the same effect.\n",
      "\n",
      "  sns.barplot(x='group', y='weight', data=df_plant, ci='sd', capsize=0.1, palette='Blues')\n"
     ]
    },
    {
     "data": {
      "image/png": "[encoded data removed]",
      "text/plain": [
       "<Figure size 800x600 with 1 Axes>"
      ]
     },
     "metadata": {},
     "output_type": "display_data"
    }
   ],
   "source": [
    "import seaborn as sns\n",
    "import matplotlib.pyplot as plt\n",
    "\n",
    "# Create bar plot with confidence intervals\n",
    "plt.figure(figsize=(8, 6))\n",
    "sns.barplot(x='group', y='weight', data=df_plant, ci='sd', capsize=0.1, palette='Blues')\n",
    "plt.title('Mean Weight by Group')\n",
    "plt.xlabel('Group')\n",
    "plt.ylabel('Mean Weight')\n",
    "plt.show()\n"
   ]
  },
  {
   "cell_type": "code",
   "execution_count": 233,
   "id": "d7bb8c1d",
   "metadata": {
    "scrolled": true
   },
   "outputs": [
    {
     "name": "stdout",
     "output_type": "stream",
     "text": [
      "Multiple Comparison of Means - Tukey HSD, FWER=0.05\n",
      "===================================================\n",
      "group1 group2 meandiff p-adj   lower  upper  reject\n",
      "---------------------------------------------------\n",
      "  ctrl   trt1   -0.371 0.3909 -1.0622 0.3202  False\n",
      "  ctrl   trt2    0.494  0.198 -0.1972 1.1852  False\n",
      "  trt1   trt2    0.865  0.012  0.1738 1.5562   True\n",
      "---------------------------------------------------\n"
     ]
    },
    {
     "data": {
      "image/png": "[encoded data removed]",
      "text/plain": [
       "<Figure size 1000x600 with 1 Axes>"
      ]
     },
     "metadata": {},
     "output_type": "display_data"
    }
   ],
   "source": [
    "import statsmodels.api as sm\n",
    "from statsmodels.stats.multicomp import pairwise_tukeyhsd\n",
    "\n",
    "# Tukey's HSD test\n",
    "tukey_result = pairwise_tukeyhsd(df_plant['weight'], df_plant['group'], alpha=0.05)\n",
    "print(tukey_result)\n",
    "\n",
    "# Plot Tukey's HSD results\n",
    "tukey_result.plot_simultaneous()\n",
    "plt.title('Tukey HSD Multiple Comparison')\n",
    "plt.xlabel('Mean Difference')\n",
    "plt.ylabel('Group')\n",
    "plt.show()\n"
   ]
  },
  {
   "cell_type": "code",
   "execution_count": null,
   "id": "aeb1e496",
   "metadata": {},
   "outputs": [],
   "source": [
    "# Plot Tukey's HSD results\n",
    "tukey_result.plot_simultaneous()\n",
    "plt.title('Tukey HSD Multiple Comparison')\n",
    "plt.xlabel('Mean Difference')\n",
    "plt.ylabel('Group')\n",
    "plt.show()\n"
   ]
  },
  {
   "cell_type": "markdown",
   "id": "61cc08e2",
   "metadata": {},
   "source": [
    "# Conclusion\n",
    "Based on the statistical analysis performed, we can conclude that there is evidence of a significant difference between the mean weights of plants in the different treatment groups. The analysis of variance (ANOVA) indicated a significant difference between the means of the three groups (control, treatment 1, and treatment 2) with a p-value of approximately 0.0159, which is less than the significance level of 0.05.\n",
    "\n",
    "To identify where these differences occur, we applied Tukey's HSD multiple comparison test. The results showed that there are no significant differences between the control group and the treatment groups. However, there was a significant difference between treatments 1 and 2, with treatment 2 having a significantly higher mean weight than treatment 1.\n",
    "\n",
    "Therefore, we conclude that treatment 2 is more effective in increasing plant weight compared to treatment 1, while there is no evidence of significant differences between the control group and any of the treatments. "
   ]
  },
  {
   "cell_type": "markdown",
   "id": "8b450c4f",
   "metadata": {},
   "source": [
    "# 5 - Task 4 - Trees\n",
    "\n",
    "\n",
    "The task involves analyzing the trees dataset, which comprises measurements of diameter, height, and volume of timber in 31 felled black cherry trees. The diameter, labeled as \"girth\" in the dataset, is measured at 4 foot 6 inches above the ground.\n",
    "\n",
    "a. Perform a correlation analysis between all numerical variables. Include and comment on \n",
    "the results of hypothesis tests for the population correlation coefficients between all three \n",
    "pairs of variables (you can use the pearsonr function from the scipy.stats library).\n",
    "\n",
    "b. There is interest in estimating the volume of timber from trees using either the girth or the \n",
    "height of the trees, or both. Perform a regression analysis to decide which of the three \n",
    "possible models you would recommend using. Interpret your results and provide a short \n",
    "conclusion of your findings."
   ]
  },
  {
   "cell_type": "markdown",
   "id": "55bf0735",
   "metadata": {},
   "source": [
    "# 5.1 - Loading the file"
   ]
  },
  {
   "cell_type": "code",
   "execution_count": 236,
   "id": "c7e9cb24",
   "metadata": {},
   "outputs": [],
   "source": [
    "from pydataset import data \n",
    "df_trees = data(\"trees\")"
   ]
  },
  {
   "cell_type": "markdown",
   "id": "d4737aee",
   "metadata": {},
   "source": [
    "# 5.2 - Characterisation of the data set"
   ]
  },
  {
   "cell_type": "code",
   "execution_count": 96,
   "id": "fc7222a8",
   "metadata": {},
   "outputs": [
    {
     "data": {
      "text/html": [
       "<div>\n",
       "<style scoped>\n",
       "    .dataframe tbody tr th:only-of-type {\n",
       "        vertical-align: middle;\n",
       "    }\n",
       "\n",
       "    .dataframe tbody tr th {\n",
       "        vertical-align: top;\n",
       "    }\n",
       "\n",
       "    .dataframe thead th {\n",
       "        text-align: right;\n",
       "    }\n",
       "</style>\n",
       "<table border=\"1\" class=\"dataframe\">\n",
       "  <thead>\n",
       "    <tr style=\"text-align: right;\">\n",
       "      <th></th>\n",
       "      <th>Girth</th>\n",
       "      <th>Height</th>\n",
       "      <th>Volume</th>\n",
       "    </tr>\n",
       "  </thead>\n",
       "  <tbody>\n",
       "    <tr>\n",
       "      <th>1</th>\n",
       "      <td>8.3</td>\n",
       "      <td>70</td>\n",
       "      <td>10.3</td>\n",
       "    </tr>\n",
       "    <tr>\n",
       "      <th>2</th>\n",
       "      <td>8.6</td>\n",
       "      <td>65</td>\n",
       "      <td>10.3</td>\n",
       "    </tr>\n",
       "    <tr>\n",
       "      <th>3</th>\n",
       "      <td>8.8</td>\n",
       "      <td>63</td>\n",
       "      <td>10.2</td>\n",
       "    </tr>\n",
       "    <tr>\n",
       "      <th>4</th>\n",
       "      <td>10.5</td>\n",
       "      <td>72</td>\n",
       "      <td>16.4</td>\n",
       "    </tr>\n",
       "    <tr>\n",
       "      <th>5</th>\n",
       "      <td>10.7</td>\n",
       "      <td>81</td>\n",
       "      <td>18.8</td>\n",
       "    </tr>\n",
       "  </tbody>\n",
       "</table>\n",
       "</div>"
      ],
      "text/plain": [
       "   Girth  Height  Volume\n",
       "1    8.3      70    10.3\n",
       "2    8.6      65    10.3\n",
       "3    8.8      63    10.2\n",
       "4   10.5      72    16.4\n",
       "5   10.7      81    18.8"
      ]
     },
     "execution_count": 96,
     "metadata": {},
     "output_type": "execute_result"
    }
   ],
   "source": [
    "df_trees.head()"
   ]
  },
  {
   "cell_type": "markdown",
   "id": "a6c005ec",
   "metadata": {},
   "source": [
    "The dataset df.trees consists of data on tree diameter, height, and volume"
   ]
  },
  {
   "cell_type": "code",
   "execution_count": 265,
   "id": "5d642ad1",
   "metadata": {},
   "outputs": [
    {
     "data": {
      "text/plain": [
       "(31, 4)"
      ]
     },
     "execution_count": 265,
     "metadata": {},
     "output_type": "execute_result"
    }
   ],
   "source": [
    "df_trees.shape"
   ]
  },
  {
   "cell_type": "markdown",
   "id": "2c4e1880",
   "metadata": {},
   "source": [
    " The dataset contains 31 rows and 3 columns"
   ]
  },
  {
   "cell_type": "code",
   "execution_count": 98,
   "id": "2bf05d63",
   "metadata": {},
   "outputs": [
    {
     "name": "stdout",
     "output_type": "stream",
     "text": [
      "<class 'pandas.core.frame.DataFrame'>\n",
      "Index: 31 entries, 1 to 31\n",
      "Data columns (total 3 columns):\n",
      " #   Column  Non-Null Count  Dtype  \n",
      "---  ------  --------------  -----  \n",
      " 0   Girth   31 non-null     float64\n",
      " 1   Height  31 non-null     int64  \n",
      " 2   Volume  31 non-null     float64\n",
      "dtypes: float64(2), int64(1)\n",
      "memory usage: 992.0 bytes\n"
     ]
    }
   ],
   "source": [
    "df_trees.info ()"
   ]
  },
  {
   "cell_type": "markdown",
   "id": "0c69d859",
   "metadata": {},
   "source": [
    "The provided data comprises three variables: \"Girth,\" \"Height,\" and \"Volume.\" \"Girth\" and \"Volume\" are of type float64, representing continuous measurements, while \"Height\" is of type int64, indicating discrete values"
   ]
  },
  {
   "cell_type": "code",
   "execution_count": 99,
   "id": "465ee3f0",
   "metadata": {},
   "outputs": [
    {
     "data": {
      "text/html": [
       "<div>\n",
       "<style scoped>\n",
       "    .dataframe tbody tr th:only-of-type {\n",
       "        vertical-align: middle;\n",
       "    }\n",
       "\n",
       "    .dataframe tbody tr th {\n",
       "        vertical-align: top;\n",
       "    }\n",
       "\n",
       "    .dataframe thead th {\n",
       "        text-align: right;\n",
       "    }\n",
       "</style>\n",
       "<table border=\"1\" class=\"dataframe\">\n",
       "  <thead>\n",
       "    <tr style=\"text-align: right;\">\n",
       "      <th></th>\n",
       "      <th>Girth</th>\n",
       "      <th>Height</th>\n",
       "      <th>Volume</th>\n",
       "    </tr>\n",
       "  </thead>\n",
       "  <tbody>\n",
       "    <tr>\n",
       "      <th>count</th>\n",
       "      <td>31.000000</td>\n",
       "      <td>31.000000</td>\n",
       "      <td>31.000000</td>\n",
       "    </tr>\n",
       "    <tr>\n",
       "      <th>mean</th>\n",
       "      <td>13.248387</td>\n",
       "      <td>76.000000</td>\n",
       "      <td>30.170968</td>\n",
       "    </tr>\n",
       "    <tr>\n",
       "      <th>std</th>\n",
       "      <td>3.138139</td>\n",
       "      <td>6.371813</td>\n",
       "      <td>16.437846</td>\n",
       "    </tr>\n",
       "    <tr>\n",
       "      <th>min</th>\n",
       "      <td>8.300000</td>\n",
       "      <td>63.000000</td>\n",
       "      <td>10.200000</td>\n",
       "    </tr>\n",
       "    <tr>\n",
       "      <th>25%</th>\n",
       "      <td>11.050000</td>\n",
       "      <td>72.000000</td>\n",
       "      <td>19.400000</td>\n",
       "    </tr>\n",
       "    <tr>\n",
       "      <th>50%</th>\n",
       "      <td>12.900000</td>\n",
       "      <td>76.000000</td>\n",
       "      <td>24.200000</td>\n",
       "    </tr>\n",
       "    <tr>\n",
       "      <th>75%</th>\n",
       "      <td>15.250000</td>\n",
       "      <td>80.000000</td>\n",
       "      <td>37.300000</td>\n",
       "    </tr>\n",
       "    <tr>\n",
       "      <th>max</th>\n",
       "      <td>20.600000</td>\n",
       "      <td>87.000000</td>\n",
       "      <td>77.000000</td>\n",
       "    </tr>\n",
       "  </tbody>\n",
       "</table>\n",
       "</div>"
      ],
      "text/plain": [
       "           Girth     Height     Volume\n",
       "count  31.000000  31.000000  31.000000\n",
       "mean   13.248387  76.000000  30.170968\n",
       "std     3.138139   6.371813  16.437846\n",
       "min     8.300000  63.000000  10.200000\n",
       "25%    11.050000  72.000000  19.400000\n",
       "50%    12.900000  76.000000  24.200000\n",
       "75%    15.250000  80.000000  37.300000\n",
       "max    20.600000  87.000000  77.000000"
      ]
     },
     "execution_count": 99,
     "metadata": {},
     "output_type": "execute_result"
    }
   ],
   "source": [
    "df_trees.describe ()"
   ]
  },
  {
   "cell_type": "markdown",
   "id": "219f9059",
   "metadata": {},
   "source": [
    "Girth (Circumference): The average circumference is approximately 13.25 inches, with a variation of about 3.14 inches around the mean (standard deviation). Circumference ranges from 8.3 to 20.6 inches, with 25% of values below 11.05 inches and 75% of values below 15.25 inches.\n",
    "\n",
    "Height: The average height is 76 inches, with a standard deviation of approximately 6.37 inches. Height ranges from 63 to 87 inches, with 25% of values below 72 inches and 75% of values below 80 inches.\n",
    "\n",
    "Volume: The average volume is about 30.17 cubic units, with a standard deviation of approximately 16.44 cubic units. Volume ranges from 10.2 to 77 cubic units, with 25% of values below 19.4 cubic units and 75% of values below 37.3 cubic units.\n",
    "\n",
    "\n",
    "\n",
    "\n",
    "\n",
    "\n"
   ]
  },
  {
   "cell_type": "code",
   "execution_count": 238,
   "id": "405c41c1",
   "metadata": {},
   "outputs": [
    {
     "data": {
      "text/plain": [
       "Girth     0\n",
       "Height    0\n",
       "Volume    0\n",
       "dtype: int64"
      ]
     },
     "execution_count": 238,
     "metadata": {},
     "output_type": "execute_result"
    }
   ],
   "source": [
    "df_trees.isnull().sum()"
   ]
  },
  {
   "cell_type": "markdown",
   "id": "d9269a5b",
   "metadata": {},
   "source": [
    "# 5.3 - Data Exploration "
   ]
  },
  {
   "cell_type": "code",
   "execution_count": 242,
   "id": "ee68a910",
   "metadata": {
    "scrolled": true
   },
   "outputs": [
    {
     "data": {
      "image/png": "[encoded data removed]",
      "text/plain": [
       "<Figure size 1000x600 with 1 Axes>"
      ]
     },
     "metadata": {},
     "output_type": "display_data"
    },
    {
     "data": {
      "image/png": "[encoded data removed]",
      "text/plain": [
       "<Figure size 1000x600 with 1 Axes>"
      ]
     },
     "metadata": {},
     "output_type": "display_data"
    },
    {
     "data": {
      "image/png": "[encoded data removed]",
      "text/plain": [
       "<Figure size 1000x600 with 1 Axes>"
      ]
     },
     "metadata": {},
     "output_type": "display_data"
    }
   ],
   "source": [
    "import matplotlib.pyplot as plt\n",
    "\n",
    "# Visualization of the distribution of tree circumference\n",
    "plt.figure(figsize=(10, 6))\n",
    "plt.hist(df_trees['Girth'], bins=20, color='skyblue', edgecolor='black')\n",
    "plt.title('Distribution of Tree Girth')\n",
    "plt.xlabel('Girth')\n",
    "plt.ylabel('Frequency')\n",
    "plt.grid(True)\n",
    "plt.show()\n",
    "\n",
    "# Visualization of the distribution of tree height\n",
    "plt.figure(figsize=(10, 6))\n",
    "plt.hist(df_trees['Height'], bins=20, color='lightgreen', edgecolor='black')\n",
    "plt.title('Distribution of Tree Height')\n",
    "plt.xlabel('Height')\n",
    "plt.ylabel('Frequency')\n",
    "plt.grid(True)\n",
    "plt.show()\n",
    "\n",
    "# Visualization of the distribution of tree volume\n",
    "plt.figure(figsize=(10, 6))\n",
    "plt.hist(df_trees['Volume'], bins=20, color='salmon', edgecolor='black')\n",
    "plt.title('Distribution of Tree Volume')\n",
    "plt.xlabel('Volume')\n",
    "plt.ylabel('Frequency')\n",
    "plt.grid(True)\n",
    "plt.show()\n"
   ]
  },
  {
   "cell_type": "code",
   "execution_count": 244,
   "id": "545235bb",
   "metadata": {},
   "outputs": [
    {
     "name": "stdout",
     "output_type": "stream",
     "text": [
      "Correlation Matrix:\n",
      "           Girth   Height    Volume\n",
      "Girth   1.000000  0.51928  0.967119\n",
      "Height  0.519280  1.00000  0.598250\n",
      "Volume  0.967119  0.59825  1.000000\n"
     ]
    },
    {
     "data": {
      "image/png": "[encoded data removed]",
      "text/plain": [
       "<Figure size 1000x800 with 2 Axes>"
      ]
     },
     "metadata": {},
     "output_type": "display_data"
    }
   ],
   "source": [
    "# Correlation analysis\n",
    "correlation_matrix = df_trees.corr()\n",
    "print(\"Correlation Matrix:\")\n",
    "print(correlation_matrix)\n",
    "\n",
    "# Visualize the correlation matrix as a heatmap\n",
    "plt.figure(figsize=(10, 8))\n",
    "sns.heatmap(correlation_matrix, annot=True, cmap='coolwarm', fmt=\".2f\", linewidths=0.5)\n",
    "plt.title('Correlation Matrix')\n",
    "plt.show()"
   ]
  },
  {
   "cell_type": "markdown",
   "id": "26c33372",
   "metadata": {},
   "source": [
    "The correlation coefficient between \"Girth\" and \"Height\" is approximately 0.52, indicating a moderate positive correlation. This suggests that there is a tendency for trees with larger girths to also have greater heights, although the relationship is not extremely strong.\n",
    "\n",
    "The correlation coefficient between \"Girth\" and \"Volume\" is approximately 0.97, indicating a very strong positive correlation. This suggests that there is a nearly perfect linear relationship between the girth and volume of trees, meaning that as the girth increases, the volume also increases proportionally.\n",
    "\n",
    "The correlation coefficient between \"Height\" and \"Volume\" is approximately 0.60, indicating a moderate positive correlation. This suggests that there is a tendency for taller trees to have larger volumes, but the relationship is not as strong as that between girth and volume."
   ]
  },
  {
   "cell_type": "markdown",
   "id": "f403c906",
   "metadata": {},
   "source": [
    "# 5.4 Outliers"
   ]
  },
  {
   "cell_type": "code",
   "execution_count": 245,
   "id": "93cad3ef",
   "metadata": {},
   "outputs": [
    {
     "data": {
      "text/plain": [
       "<Axes: xlabel='Girth'>"
      ]
     },
     "execution_count": 245,
     "metadata": {},
     "output_type": "execute_result"
    },
    {
     "data": {
      "image/png": "[encoded data removed]",
      "text/plain": [
       "<Figure size 800x550 with 1 Axes>"
      ]
     },
     "metadata": {},
     "output_type": "display_data"
    }
   ],
   "source": [
    "sns.boxplot(x=df_trees[\"Girth\"])"
   ]
  },
  {
   "cell_type": "code",
   "execution_count": 246,
   "id": "0b38c231",
   "metadata": {},
   "outputs": [
    {
     "data": {
      "text/plain": [
       "<Axes: xlabel='Height'>"
      ]
     },
     "execution_count": 246,
     "metadata": {},
     "output_type": "execute_result"
    },
    {
     "data": {
      "image/png": "[encoded data removed]",
      "text/plain": [
       "<Figure size 800x550 with 1 Axes>"
      ]
     },
     "metadata": {},
     "output_type": "display_data"
    }
   ],
   "source": [
    "sns.boxplot(x=df_trees[\"Height\"])"
   ]
  },
  {
   "cell_type": "code",
   "execution_count": 247,
   "id": "7df9534d",
   "metadata": {},
   "outputs": [
    {
     "data": {
      "text/plain": [
       "<Axes: xlabel='Volume'>"
      ]
     },
     "execution_count": 247,
     "metadata": {},
     "output_type": "execute_result"
    },
    {
     "data": {
      "image/png": "[encoded data removed]",
      "text/plain": [
       "<Figure size 800x550 with 1 Axes>"
      ]
     },
     "metadata": {},
     "output_type": "display_data"
    }
   ],
   "source": [
    "sns.boxplot(x=df_trees[\"Volume\"])"
   ]
  },
  {
   "cell_type": "markdown",
   "id": "2f31eedf",
   "metadata": {},
   "source": [
    "Apenas a variavel volume apresentou outliers, iremos realizar a analise para verificar se ha necessidade de remocao"
   ]
  },
  {
   "cell_type": "markdown",
   "id": "51805924",
   "metadata": {},
   "source": [
    "# 5.5 - Hypothesis Testing"
   ]
  },
  {
   "cell_type": "code",
   "execution_count": 252,
   "id": "bae296f4",
   "metadata": {},
   "outputs": [
    {
     "name": "stdout",
     "output_type": "stream",
     "text": [
      "\n",
      "Hypothesis Test for correlation between Girth and Height:\n",
      "Pearson Correlation Coefficient: 0.5192800719499373\n",
      "P-value: 0.0027578147930576663\n",
      "Result: Correlation is statistically significant.\n",
      "\n",
      "Hypothesis Test for correlation between Girth and Volume:\n",
      "Pearson Correlation Coefficient: 0.9671193682556305\n",
      "P-value: 8.6443342117705775e-19\n",
      "Result: Correlation is statistically significant.\n",
      "\n",
      "Hypothesis Test for correlation between Height and Volume:\n",
      "Pearson Correlation Coefficient: 0.5982496519917821\n",
      "P-value: 0.0003783823479184885\n",
      "Result: Correlation is statistically significant.\n"
     ]
    }
   ],
   "source": [
    "\n",
    "from scipy.stats import pearsonr\n",
    "# Hypothesis tests for population correlation coefficients\n",
    "variables = ['Girth', 'Height', 'Volume']\n",
    "for i in range(len(variables)):\n",
    "    for j in range(i+1, len(variables)):\n",
    "        corr, p_value = pearsonr(df_trees[variables[i]], df_trees[variables[j]])\n",
    "        print(f\"\\nHypothesis Test for correlation between {variables[i]} and {variables[j]}:\")\n",
    "        print(f\"Pearson Correlation Coefficient: {corr}\")\n",
    "        print(f\"P-value: {p_value}\")\n",
    "        if p_value < 0.05:\n",
    "            print(\"Result: Correlation is statistically significant.\")\n",
    "        else:\n",
    "            print(\"Result: Correlation is not statistically significant.\")\n",
    "\n"
   ]
  },
  {
   "cell_type": "markdown",
   "id": "ecf23d73",
   "metadata": {},
   "source": [
    "Correlation Hypothesis between Girth and Height:\n",
    "\n",
    "Pearson Correlation Coefficient: 0.5192800719499373\n",
    "\n",
    "P-value: 0.0027578147930576663\n",
    "\n",
    "Result: The correlation is statistically significant.\n",
    "\n",
    "\n",
    "\n",
    "The Pearson correlation coefficient between girth and height is approximately 0.52, indicating a moderate positive correlation. The P-value is less than 0.05, which leads us to reject the null hypothesis of no correlation between these variables. Therefore, we can conclude that there is a statistically significant correlation between the girth and height of the trees.\n",
    "\n",
    "Correlation Hypothesis between Girth and Volume:\n",
    "\n",
    "Pearson Correlation Coefficient: 0.9671193682556305\n",
    "\n",
    "P-value: 8.6443342117705775e-19\n",
    "\n",
    "Result: The correlation is statistically significant.\n",
    "\n",
    "\n",
    "\n",
    "The Pearson correlation coefficient between girth and volume is approximately 0.97, indicating a very strong positive correlation. The P-value is extremely small, much less than 0.05, allowing us to reject the null hypothesis with high confidence. This means that there is a statistically significant and very strong correlation between the girth and volume of the trees.\n",
    "\n",
    "Correlation Hypothesis between Height and Volume:\n",
    "\n",
    "Pearson Correlation Coefficient: 0.5982496519917821\n",
    "\n",
    "P-value: 0.0003783823479184885\n",
    "\n",
    "Result: The correlation is statistically significant.\n",
    "\n",
    "\n",
    "\n",
    "The Pearson correlation coefficient between height and volume is approximately 0.60, indicating a moderate to strong positive correlation. The P-value is less than 0.05, allowing us to reject the null hypothesis of no correlation between these variables. Thus, we can conclude that there is a statistically significant correlation between the height and volume of the trees.\n",
    "\n",
    "Conclusion:\n",
    "The results of the hypothesis tests show that all correlations between girth, height, and volume of the trees are statistically significant. The strongest relationship observed is between girth and volume, followed by the correlation between height and volume, and finally the correlation between girth and height. These results indicate that both girth and height have a significant relationship with the volume of the trees, with girth being the strongest indicator of volume.\n",
    "\n",
    "\n",
    "\n",
    "\n",
    "\n",
    "\n"
   ]
  },
  {
   "cell_type": "markdown",
   "id": "740ec1b5",
   "metadata": {},
   "source": [
    "# 5.6 - Regression analysis"
   ]
  },
  {
   "cell_type": "code",
   "execution_count": 254,
   "id": "7798c561",
   "metadata": {},
   "outputs": [],
   "source": [
    "# Regression analysis\n",
    "X_girth = df_trees[['Girth']]\n",
    "X_height = df_trees[['Height']]\n",
    "X_both = df_trees[['Girth', 'Height']]\n",
    "y = df_trees['Volume']"
   ]
  },
  {
   "cell_type": "code",
   "execution_count": 256,
   "id": "6d159118",
   "metadata": {},
   "outputs": [],
   "source": [
    "from sklearn.linear_model import LinearRegression\n",
    "\n",
    "# Fit linear regression models\n",
    "reg_girth = LinearRegression().fit(X_girth, y)\n",
    "reg_height = LinearRegression().fit(X_height, y)\n",
    "reg_both = LinearRegression().fit(X_both, y)"
   ]
  },
  {
   "cell_type": "code",
   "execution_count": 258,
   "id": "e767bdd8",
   "metadata": {},
   "outputs": [],
   "source": [
    "from sklearn.metrics import r2_score\n",
    "\n",
    "# Evaluate goodness of fit\n",
    "r2_girth = r2_score(y, reg_girth.predict(X_girth))\n",
    "r2_height = r2_score(y, reg_height.predict(X_height))\n",
    "r2_both = r2_score(y, reg_both.predict(X_both))"
   ]
  },
  {
   "cell_type": "code",
   "execution_count": 259,
   "id": "ad5b36d5",
   "metadata": {},
   "outputs": [
    {
     "name": "stdout",
     "output_type": "stream",
     "text": [
      "\n",
      "Regression Results:\n",
      "Model using Girth only - R-squared: 0.9353198724551699\n",
      "Model using Height only - R-squared: 0.3579026461082886\n",
      "Model using both Girth and Height - R-squared: 0.9479500377816745\n"
     ]
    }
   ],
   "source": [
    "print(\"\\nRegression Results:\")\n",
    "print(f\"Model using Girth only - R-squared: {r2_girth}\")\n",
    "print(f\"Model using Height only - R-squared: {r2_height}\")\n",
    "print(f\"Model using both Girth and Height - R-squared: {r2_both}\")"
   ]
  },
  {
   "cell_type": "markdown",
   "id": "392cfcf7",
   "metadata": {},
   "source": [
    "Model using Girth only: R-squared: 0.9353198724551699\n",
    "\n",
    "\n",
    "An R-squared value of 0.9353 means that approximately 93.53% of the variability in tree volume is accounted for by girth alone. This high R-squared value indicates that girth is a very powerful predictor of tree volume.\n",
    "\n",
    "Model using Height only: R-squared: 0.3579026461082886\n",
    "\n",
    "\n",
    "An R-squared value of 0.3579 indicates that only around 35.79% of the variability in tree volume is explained by height alone. This relatively low R-squared value suggests that height is not as effective a predictor of tree volume as girth is.\n",
    "\n",
    "Model using both Girth and Height: R-squared: 0.9479500377816745\n",
    "\n",
    "\n",
    "An R-squared value of 0.9480 shows that roughly 94.80% of the variability in tree volume is explained when both girth and height are included in the model. This slightly higher R-squared value compared to the girth-only model indicates that adding height as a predictor offers some additional explanatory power, but girth remains the primary factor.\n",
    "\n",
    "Conclusion\n",
    "The regression analysis demonstrates that girth is a much more significant predictor of tree volume than height. Although height does add some explanatory power when combined with girth, the improvement is minimal. Therefore, the model that includes both girth and height is the most comprehensive of the three, but girth alone explains the majority of the variance in tree volume. For practical purposes, using girth alone is almost as effective as using both predictors, and may be preferred for its simplicity."
   ]
  },
  {
   "cell_type": "code",
   "execution_count": null,
   "id": "2f427c79",
   "metadata": {},
   "outputs": [],
   "source": []
  }
 ],
 "metadata": {
  "kernelspec": {
   "display_name": "Python 3 (ipykernel)",
   "language": "python",
   "name": "python3"
  },
  "language_info": {
   "codemirror_mode": {
    "name": "ipython",
    "version": 3
   },
   "file_extension": ".py",
   "mimetype": "text/x-python",
   "name": "python",
   "nbconvert_exporter": "python",
   "pygments_lexer": "ipython3",
   "version": "3.11.5"
  }
 },
 "nbformat": 4,
 "nbformat_minor": 5
}
